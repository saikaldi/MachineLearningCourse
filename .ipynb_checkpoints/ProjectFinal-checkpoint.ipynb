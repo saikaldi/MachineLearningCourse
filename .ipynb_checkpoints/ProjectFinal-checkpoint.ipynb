{
 "cells": [
  {
   "cell_type": "code",
   "execution_count": 1,
   "id": "c8c6e8db-9bb7-4e6e-8cfc-4616f92eed71",
   "metadata": {},
   "outputs": [],
   "source": [
    "import pandas as pd\n",
    "import matplotlib.pyplot as plt\n",
    "import seaborn as sns\n",
    "import numpy as np"
   ]
  },
  {
   "cell_type": "code",
   "execution_count": 3,
   "id": "b9a36735-14c0-4d1e-9b2a-5786ee57015f",
   "metadata": {},
   "outputs": [],
   "source": [
    "data = pd.read_csv(\"project.csv\")"
   ]
  },
  {
   "cell_type": "code",
   "execution_count": 5,
   "id": "ce906e40-ba58-44be-9642-5dfde897b074",
   "metadata": {},
   "outputs": [
    {
     "name": "stdout",
     "output_type": "stream",
     "text": [
      "<class 'pandas.core.frame.DataFrame'>\n",
      "RangeIndex: 9000 entries, 0 to 8999\n",
      "Data columns (total 11 columns):\n",
      " #   Column      Non-Null Count  Dtype  \n",
      "---  ------      --------------  -----  \n",
      " 0   feature_1   9000 non-null   float64\n",
      " 1   feature_2   9000 non-null   float64\n",
      " 2   feature_3   8600 non-null   float64\n",
      " 3   feature_4   9000 non-null   float64\n",
      " 4   feature_5   9000 non-null   float64\n",
      " 5   feature_6   8500 non-null   float64\n",
      " 6   feature_7   9000 non-null   float64\n",
      " 7   feature_8   9000 non-null   float64\n",
      " 8   category_1  9000 non-null   object \n",
      " 9   category_2  9000 non-null   object \n",
      " 10  target      9000 non-null   int64  \n",
      "dtypes: float64(8), int64(1), object(2)\n",
      "memory usage: 773.6+ KB\n"
     ]
    }
   ],
   "source": [
    "data.info()"
   ]
  },
  {
   "cell_type": "code",
   "execution_count": 7,
   "id": "2cebc892-ab94-4a27-84d6-2daa58150064",
   "metadata": {},
   "outputs": [
    {
     "data": {
      "text/html": [
       "<div>\n",
       "<style scoped>\n",
       "    .dataframe tbody tr th:only-of-type {\n",
       "        vertical-align: middle;\n",
       "    }\n",
       "\n",
       "    .dataframe tbody tr th {\n",
       "        vertical-align: top;\n",
       "    }\n",
       "\n",
       "    .dataframe thead th {\n",
       "        text-align: right;\n",
       "    }\n",
       "</style>\n",
       "<table border=\"1\" class=\"dataframe\">\n",
       "  <thead>\n",
       "    <tr style=\"text-align: right;\">\n",
       "      <th></th>\n",
       "      <th>feature_1</th>\n",
       "      <th>feature_2</th>\n",
       "      <th>feature_3</th>\n",
       "      <th>feature_4</th>\n",
       "      <th>feature_5</th>\n",
       "      <th>feature_6</th>\n",
       "      <th>feature_7</th>\n",
       "      <th>feature_8</th>\n",
       "      <th>category_1</th>\n",
       "      <th>category_2</th>\n",
       "      <th>target</th>\n",
       "    </tr>\n",
       "  </thead>\n",
       "  <tbody>\n",
       "    <tr>\n",
       "      <th>0</th>\n",
       "      <td>0.496714</td>\n",
       "      <td>1.146509</td>\n",
       "      <td>-0.648521</td>\n",
       "      <td>0.833005</td>\n",
       "      <td>0.784920</td>\n",
       "      <td>-2.209437</td>\n",
       "      <td>-1.300105</td>\n",
       "      <td>-2.242241</td>\n",
       "      <td>Above Average</td>\n",
       "      <td>Region C</td>\n",
       "      <td>1</td>\n",
       "    </tr>\n",
       "    <tr>\n",
       "      <th>1</th>\n",
       "      <td>-0.138264</td>\n",
       "      <td>-0.061846</td>\n",
       "      <td>NaN</td>\n",
       "      <td>0.403768</td>\n",
       "      <td>0.704674</td>\n",
       "      <td>-2.498565</td>\n",
       "      <td>-1.339227</td>\n",
       "      <td>-1.942298</td>\n",
       "      <td>Below Average</td>\n",
       "      <td>Region A</td>\n",
       "      <td>0</td>\n",
       "    </tr>\n",
       "    <tr>\n",
       "      <th>2</th>\n",
       "      <td>0.647689</td>\n",
       "      <td>1.395115</td>\n",
       "      <td>-0.764126</td>\n",
       "      <td>1.708266</td>\n",
       "      <td>-0.250029</td>\n",
       "      <td>1.956259</td>\n",
       "      <td>1.190238</td>\n",
       "      <td>1.503559</td>\n",
       "      <td>High</td>\n",
       "      <td>Region C</td>\n",
       "      <td>1</td>\n",
       "    </tr>\n",
       "    <tr>\n",
       "      <th>3</th>\n",
       "      <td>1.523030</td>\n",
       "      <td>2.657560</td>\n",
       "      <td>-2.461653</td>\n",
       "      <td>2.649051</td>\n",
       "      <td>0.882201</td>\n",
       "      <td>3.445638</td>\n",
       "      <td>2.120913</td>\n",
       "      <td>3.409035</td>\n",
       "      <td>High</td>\n",
       "      <td>Region B</td>\n",
       "      <td>1</td>\n",
       "    </tr>\n",
       "    <tr>\n",
       "      <th>4</th>\n",
       "      <td>-0.234153</td>\n",
       "      <td>-0.499391</td>\n",
       "      <td>0.576097</td>\n",
       "      <td>-0.441656</td>\n",
       "      <td>0.610601</td>\n",
       "      <td>0.211425</td>\n",
       "      <td>0.935759</td>\n",
       "      <td>-0.401463</td>\n",
       "      <td>Below Average</td>\n",
       "      <td>Region C</td>\n",
       "      <td>0</td>\n",
       "    </tr>\n",
       "  </tbody>\n",
       "</table>\n",
       "</div>"
      ],
      "text/plain": [
       "   feature_1  feature_2  feature_3  feature_4  feature_5  feature_6  \\\n",
       "0   0.496714   1.146509  -0.648521   0.833005   0.784920  -2.209437   \n",
       "1  -0.138264  -0.061846        NaN   0.403768   0.704674  -2.498565   \n",
       "2   0.647689   1.395115  -0.764126   1.708266  -0.250029   1.956259   \n",
       "3   1.523030   2.657560  -2.461653   2.649051   0.882201   3.445638   \n",
       "4  -0.234153  -0.499391   0.576097  -0.441656   0.610601   0.211425   \n",
       "\n",
       "   feature_7  feature_8     category_1 category_2  target  \n",
       "0  -1.300105  -2.242241  Above Average   Region C       1  \n",
       "1  -1.339227  -1.942298  Below Average   Region A       0  \n",
       "2   1.190238   1.503559           High   Region C       1  \n",
       "3   2.120913   3.409035           High   Region B       1  \n",
       "4   0.935759  -0.401463  Below Average   Region C       0  "
      ]
     },
     "execution_count": 7,
     "metadata": {},
     "output_type": "execute_result"
    }
   ],
   "source": [
    "data.head()"
   ]
  },
  {
   "cell_type": "code",
   "execution_count": 14,
   "id": "d7c6fa3c-9e0c-4be9-961c-ef965351311c",
   "metadata": {},
   "outputs": [
    {
     "data": {
      "text/plain": [
       "Index(['feature_1', 'feature_2', 'feature_3', 'feature_4', 'feature_5',\n",
       "       'feature_6', 'feature_7', 'feature_8', 'category_1', 'category_2',\n",
       "       'target'],\n",
       "      dtype='object')"
      ]
     },
     "execution_count": 14,
     "metadata": {},
     "output_type": "execute_result"
    }
   ],
   "source": [
    "data.columns"
   ]
  },
  {
   "cell_type": "code",
   "execution_count": 16,
   "id": "5f0ed2eb-aaca-4ef4-aaf2-aa026e2ccadd",
   "metadata": {},
   "outputs": [
    {
     "data": {
      "text/html": [
       "<div>\n",
       "<style scoped>\n",
       "    .dataframe tbody tr th:only-of-type {\n",
       "        vertical-align: middle;\n",
       "    }\n",
       "\n",
       "    .dataframe tbody tr th {\n",
       "        vertical-align: top;\n",
       "    }\n",
       "\n",
       "    .dataframe thead th {\n",
       "        text-align: right;\n",
       "    }\n",
       "</style>\n",
       "<table border=\"1\" class=\"dataframe\">\n",
       "  <thead>\n",
       "    <tr style=\"text-align: right;\">\n",
       "      <th></th>\n",
       "      <th>feature_1</th>\n",
       "      <th>feature_2</th>\n",
       "      <th>feature_3</th>\n",
       "      <th>feature_4</th>\n",
       "      <th>feature_5</th>\n",
       "      <th>feature_6</th>\n",
       "      <th>feature_7</th>\n",
       "      <th>feature_8</th>\n",
       "      <th>target</th>\n",
       "    </tr>\n",
       "  </thead>\n",
       "  <tbody>\n",
       "    <tr>\n",
       "      <th>count</th>\n",
       "      <td>9000.000000</td>\n",
       "      <td>9000.000000</td>\n",
       "      <td>8600.000000</td>\n",
       "      <td>9000.000000</td>\n",
       "      <td>9000.000000</td>\n",
       "      <td>8500.000000</td>\n",
       "      <td>9000.000000</td>\n",
       "      <td>9000.000000</td>\n",
       "      <td>9000.000000</td>\n",
       "    </tr>\n",
       "    <tr>\n",
       "      <th>mean</th>\n",
       "      <td>0.000427</td>\n",
       "      <td>0.003349</td>\n",
       "      <td>0.003235</td>\n",
       "      <td>-0.008481</td>\n",
       "      <td>-0.002177</td>\n",
       "      <td>-0.006447</td>\n",
       "      <td>0.000592</td>\n",
       "      <td>0.003348</td>\n",
       "      <td>0.475444</td>\n",
       "    </tr>\n",
       "    <tr>\n",
       "      <th>std</th>\n",
       "      <td>1.241318</td>\n",
       "      <td>2.508324</td>\n",
       "      <td>1.542901</td>\n",
       "      <td>2.061784</td>\n",
       "      <td>0.577415</td>\n",
       "      <td>1.981615</td>\n",
       "      <td>1.075064</td>\n",
       "      <td>2.043643</td>\n",
       "      <td>0.499424</td>\n",
       "    </tr>\n",
       "    <tr>\n",
       "      <th>min</th>\n",
       "      <td>-18.665400</td>\n",
       "      <td>-37.852816</td>\n",
       "      <td>-6.676680</td>\n",
       "      <td>-8.190124</td>\n",
       "      <td>-0.999791</td>\n",
       "      <td>-8.590782</td>\n",
       "      <td>-4.422265</td>\n",
       "      <td>-9.474989</td>\n",
       "      <td>0.000000</td>\n",
       "    </tr>\n",
       "    <tr>\n",
       "      <th>25%</th>\n",
       "      <td>-0.680062</td>\n",
       "      <td>-1.382610</td>\n",
       "      <td>-1.022085</td>\n",
       "      <td>-1.399928</td>\n",
       "      <td>-0.502614</td>\n",
       "      <td>-1.329040</td>\n",
       "      <td>-0.700078</td>\n",
       "      <td>-1.356620</td>\n",
       "      <td>0.000000</td>\n",
       "    </tr>\n",
       "    <tr>\n",
       "      <th>50%</th>\n",
       "      <td>-0.003938</td>\n",
       "      <td>-0.016698</td>\n",
       "      <td>0.005196</td>\n",
       "      <td>-0.019541</td>\n",
       "      <td>0.001695</td>\n",
       "      <td>-0.003137</td>\n",
       "      <td>-0.000097</td>\n",
       "      <td>-0.007584</td>\n",
       "      <td>0.000000</td>\n",
       "    </tr>\n",
       "    <tr>\n",
       "      <th>75%</th>\n",
       "      <td>0.680513</td>\n",
       "      <td>1.380228</td>\n",
       "      <td>1.038571</td>\n",
       "      <td>1.394151</td>\n",
       "      <td>0.497004</td>\n",
       "      <td>1.324897</td>\n",
       "      <td>0.731942</td>\n",
       "      <td>1.402024</td>\n",
       "      <td>1.000000</td>\n",
       "    </tr>\n",
       "    <tr>\n",
       "      <th>max</th>\n",
       "      <td>21.934496</td>\n",
       "      <td>47.603454</td>\n",
       "      <td>6.203055</td>\n",
       "      <td>8.189001</td>\n",
       "      <td>0.999914</td>\n",
       "      <td>6.803751</td>\n",
       "      <td>3.857219</td>\n",
       "      <td>7.572578</td>\n",
       "      <td>1.000000</td>\n",
       "    </tr>\n",
       "  </tbody>\n",
       "</table>\n",
       "</div>"
      ],
      "text/plain": [
       "         feature_1    feature_2    feature_3    feature_4    feature_5  \\\n",
       "count  9000.000000  9000.000000  8600.000000  9000.000000  9000.000000   \n",
       "mean      0.000427     0.003349     0.003235    -0.008481    -0.002177   \n",
       "std       1.241318     2.508324     1.542901     2.061784     0.577415   \n",
       "min     -18.665400   -37.852816    -6.676680    -8.190124    -0.999791   \n",
       "25%      -0.680062    -1.382610    -1.022085    -1.399928    -0.502614   \n",
       "50%      -0.003938    -0.016698     0.005196    -0.019541     0.001695   \n",
       "75%       0.680513     1.380228     1.038571     1.394151     0.497004   \n",
       "max      21.934496    47.603454     6.203055     8.189001     0.999914   \n",
       "\n",
       "         feature_6    feature_7    feature_8       target  \n",
       "count  8500.000000  9000.000000  9000.000000  9000.000000  \n",
       "mean     -0.006447     0.000592     0.003348     0.475444  \n",
       "std       1.981615     1.075064     2.043643     0.499424  \n",
       "min      -8.590782    -4.422265    -9.474989     0.000000  \n",
       "25%      -1.329040    -0.700078    -1.356620     0.000000  \n",
       "50%      -0.003137    -0.000097    -0.007584     0.000000  \n",
       "75%       1.324897     0.731942     1.402024     1.000000  \n",
       "max       6.803751     3.857219     7.572578     1.000000  "
      ]
     },
     "execution_count": 16,
     "metadata": {},
     "output_type": "execute_result"
    }
   ],
   "source": [
    "data.describe()"
   ]
  },
  {
   "cell_type": "code",
   "execution_count": 18,
   "id": "06967f0c-b29d-4da8-aa1f-6a65a635b4b9",
   "metadata": {},
   "outputs": [
    {
     "data": {
      "text/plain": [
       "array([[<Axes: title={'center': 'feature_1'}>,\n",
       "        <Axes: title={'center': 'feature_2'}>,\n",
       "        <Axes: title={'center': 'feature_3'}>],\n",
       "       [<Axes: title={'center': 'feature_4'}>,\n",
       "        <Axes: title={'center': 'feature_5'}>,\n",
       "        <Axes: title={'center': 'feature_6'}>],\n",
       "       [<Axes: title={'center': 'feature_7'}>,\n",
       "        <Axes: title={'center': 'feature_8'}>,\n",
       "        <Axes: title={'center': 'target'}>]], dtype=object)"
      ]
     },
     "execution_count": 18,
     "metadata": {},
     "output_type": "execute_result"
    },
    {
     "data": {
      "image/png": "[encoded data removed]",
      "text/plain": [
       "<Figure size 1200x800 with 9 Axes>"
      ]
     },
     "metadata": {},
     "output_type": "display_data"
    }
   ],
   "source": [
    "data.hist(bins=50, figsize=(12, 8))"
   ]
  },
  {
   "cell_type": "code",
   "execution_count": 20,
   "id": "373c7ebf-8aa0-46ff-908a-6520ca47c73d",
   "metadata": {},
   "outputs": [],
   "source": [
    "from sklearn.preprocessing import StandardScaler"
   ]
  },
  {
   "cell_type": "code",
   "execution_count": 22,
   "id": "4a4aee18-59bd-4a0c-8954-1db15d2740dc",
   "metadata": {},
   "outputs": [],
   "source": [
    "features_to_scale = ['feature_1', 'feature_2']\n",
    "scaler = StandardScaler()"
   ]
  },
  {
   "cell_type": "code",
   "execution_count": 24,
   "id": "6d860871-270e-4a06-99ef-47e96b9ce97e",
   "metadata": {},
   "outputs": [
    {
     "data": {
      "text/html": [
       "<div>\n",
       "<style scoped>\n",
       "    .dataframe tbody tr th:only-of-type {\n",
       "        vertical-align: middle;\n",
       "    }\n",
       "\n",
       "    .dataframe tbody tr th {\n",
       "        vertical-align: top;\n",
       "    }\n",
       "\n",
       "    .dataframe thead th {\n",
       "        text-align: right;\n",
       "    }\n",
       "</style>\n",
       "<table border=\"1\" class=\"dataframe\">\n",
       "  <thead>\n",
       "    <tr style=\"text-align: right;\">\n",
       "      <th></th>\n",
       "      <th>feature_1</th>\n",
       "      <th>feature_2</th>\n",
       "    </tr>\n",
       "  </thead>\n",
       "  <tbody>\n",
       "    <tr>\n",
       "      <th>0</th>\n",
       "      <td>0.399829</td>\n",
       "      <td>0.455772</td>\n",
       "    </tr>\n",
       "    <tr>\n",
       "      <th>1</th>\n",
       "      <td>-0.111735</td>\n",
       "      <td>-0.025993</td>\n",
       "    </tr>\n",
       "    <tr>\n",
       "      <th>2</th>\n",
       "      <td>0.521460</td>\n",
       "      <td>0.554890</td>\n",
       "    </tr>\n",
       "    <tr>\n",
       "      <th>3</th>\n",
       "      <td>1.226670</td>\n",
       "      <td>1.058220</td>\n",
       "    </tr>\n",
       "    <tr>\n",
       "      <th>4</th>\n",
       "      <td>-0.188987</td>\n",
       "      <td>-0.200440</td>\n",
       "    </tr>\n",
       "  </tbody>\n",
       "</table>\n",
       "</div>"
      ],
      "text/plain": [
       "   feature_1  feature_2\n",
       "0   0.399829   0.455772\n",
       "1  -0.111735  -0.025993\n",
       "2   0.521460   0.554890\n",
       "3   1.226670   1.058220\n",
       "4  -0.188987  -0.200440"
      ]
     },
     "execution_count": 24,
     "metadata": {},
     "output_type": "execute_result"
    }
   ],
   "source": [
    "data_scaled = data.copy()\n",
    "data_to_scale = scaler.fit_transform(data_scaled[features_to_scale])\n",
    "\n",
    "data_scaled_df = pd.DataFrame(data_to_scale, columns=features_to_scale)\n",
    "\n",
    "data_scaled[features_to_scale] = data_scaled_df\n",
    "\n",
    "data_scaled[features_to_scale].head()"
   ]
  },
  {
   "cell_type": "code",
   "execution_count": 38,
   "id": "46fc9912-234d-4e79-be6c-ab943b9db9f0",
   "metadata": {},
   "outputs": [
    {
     "data": {
      "text/html": [
       "<div>\n",
       "<style scoped>\n",
       "    .dataframe tbody tr th:only-of-type {\n",
       "        vertical-align: middle;\n",
       "    }\n",
       "\n",
       "    .dataframe tbody tr th {\n",
       "        vertical-align: top;\n",
       "    }\n",
       "\n",
       "    .dataframe thead th {\n",
       "        text-align: right;\n",
       "    }\n",
       "</style>\n",
       "<table border=\"1\" class=\"dataframe\">\n",
       "  <thead>\n",
       "    <tr style=\"text-align: right;\">\n",
       "      <th></th>\n",
       "      <th>feature_1</th>\n",
       "      <th>feature_2</th>\n",
       "      <th>feature_3</th>\n",
       "      <th>feature_4</th>\n",
       "      <th>feature_5</th>\n",
       "      <th>feature_6</th>\n",
       "      <th>feature_7</th>\n",
       "      <th>feature_8</th>\n",
       "      <th>category_1</th>\n",
       "      <th>category_2</th>\n",
       "      <th>target</th>\n",
       "    </tr>\n",
       "  </thead>\n",
       "  <tbody>\n",
       "    <tr>\n",
       "      <th>0</th>\n",
       "      <td>0.399829</td>\n",
       "      <td>0.455772</td>\n",
       "      <td>-0.648521</td>\n",
       "      <td>0.833005</td>\n",
       "      <td>0.784920</td>\n",
       "      <td>-2.209437</td>\n",
       "      <td>-1.300105</td>\n",
       "      <td>-2.242241</td>\n",
       "      <td>Above Average</td>\n",
       "      <td>Region C</td>\n",
       "      <td>1</td>\n",
       "    </tr>\n",
       "    <tr>\n",
       "      <th>1</th>\n",
       "      <td>-0.111735</td>\n",
       "      <td>-0.025993</td>\n",
       "      <td>NaN</td>\n",
       "      <td>0.403768</td>\n",
       "      <td>0.704674</td>\n",
       "      <td>-2.498565</td>\n",
       "      <td>-1.339227</td>\n",
       "      <td>-1.942298</td>\n",
       "      <td>Below Average</td>\n",
       "      <td>Region A</td>\n",
       "      <td>0</td>\n",
       "    </tr>\n",
       "    <tr>\n",
       "      <th>2</th>\n",
       "      <td>0.521460</td>\n",
       "      <td>0.554890</td>\n",
       "      <td>-0.764126</td>\n",
       "      <td>1.708266</td>\n",
       "      <td>-0.250029</td>\n",
       "      <td>1.956259</td>\n",
       "      <td>1.190238</td>\n",
       "      <td>1.503559</td>\n",
       "      <td>High</td>\n",
       "      <td>Region C</td>\n",
       "      <td>1</td>\n",
       "    </tr>\n",
       "    <tr>\n",
       "      <th>3</th>\n",
       "      <td>1.226670</td>\n",
       "      <td>1.058220</td>\n",
       "      <td>-2.461653</td>\n",
       "      <td>2.649051</td>\n",
       "      <td>0.882201</td>\n",
       "      <td>3.445638</td>\n",
       "      <td>2.120913</td>\n",
       "      <td>3.409035</td>\n",
       "      <td>High</td>\n",
       "      <td>Region B</td>\n",
       "      <td>1</td>\n",
       "    </tr>\n",
       "    <tr>\n",
       "      <th>4</th>\n",
       "      <td>-0.188987</td>\n",
       "      <td>-0.200440</td>\n",
       "      <td>0.576097</td>\n",
       "      <td>-0.441656</td>\n",
       "      <td>0.610601</td>\n",
       "      <td>0.211425</td>\n",
       "      <td>0.935759</td>\n",
       "      <td>-0.401463</td>\n",
       "      <td>Below Average</td>\n",
       "      <td>Region C</td>\n",
       "      <td>0</td>\n",
       "    </tr>\n",
       "  </tbody>\n",
       "</table>\n",
       "</div>"
      ],
      "text/plain": [
       "   feature_1  feature_2  feature_3  feature_4  feature_5  feature_6  \\\n",
       "0   0.399829   0.455772  -0.648521   0.833005   0.784920  -2.209437   \n",
       "1  -0.111735  -0.025993        NaN   0.403768   0.704674  -2.498565   \n",
       "2   0.521460   0.554890  -0.764126   1.708266  -0.250029   1.956259   \n",
       "3   1.226670   1.058220  -2.461653   2.649051   0.882201   3.445638   \n",
       "4  -0.188987  -0.200440   0.576097  -0.441656   0.610601   0.211425   \n",
       "\n",
       "   feature_7  feature_8     category_1 category_2  target  \n",
       "0  -1.300105  -2.242241  Above Average   Region C       1  \n",
       "1  -1.339227  -1.942298  Below Average   Region A       0  \n",
       "2   1.190238   1.503559           High   Region C       1  \n",
       "3   2.120913   3.409035           High   Region B       1  \n",
       "4   0.935759  -0.401463  Below Average   Region C       0  "
      ]
     },
     "execution_count": 38,
     "metadata": {},
     "output_type": "execute_result"
    }
   ],
   "source": [
    "data_scaled.head()"
   ]
  },
  {
   "cell_type": "markdown",
   "id": "6265a663-5890-4283-a07b-4b5c052c35c2",
   "metadata": {},
   "source": [
    "## Section 3 \"Data Preprocessing\""
   ]
  },
  {
   "cell_type": "code",
   "execution_count": 40,
   "id": "6144a27e-a6a7-4ad5-8835-f902d1fece74",
   "metadata": {},
   "outputs": [
    {
     "data": {
      "text/plain": [
       "feature_1       0\n",
       "feature_2       0\n",
       "feature_3     400\n",
       "feature_4       0\n",
       "feature_5       0\n",
       "feature_6     500\n",
       "feature_7       0\n",
       "feature_8       0\n",
       "category_1      0\n",
       "category_2      0\n",
       "target          0\n",
       "dtype: int64"
      ]
     },
     "execution_count": 40,
     "metadata": {},
     "output_type": "execute_result"
    }
   ],
   "source": [
    "data_scaled.isnull().sum() "
   ]
  },
  {
   "cell_type": "code",
   "execution_count": 44,
   "id": "aaa1bb57-f741-4af7-8cbe-3db61b37c609",
   "metadata": {},
   "outputs": [],
   "source": [
    "from sklearn.impute import SimpleImputer\n",
    "\n",
    "numerical_features = data_scaled.select_dtypes(include=[np.number]).columns\n",
    "\n",
    "imputer_num = SimpleImputer(strategy='mean')\n",
    "data_scaled[numerical_features] = imputer_num.fit_transform(data_scaled[numerical_features])"
   ]
  },
  {
   "cell_type": "code",
   "execution_count": 46,
   "id": "d95b3688-5141-4812-9882-5e45f4503bb8",
   "metadata": {},
   "outputs": [
    {
     "data": {
      "text/plain": [
       "feature_1     0\n",
       "feature_2     0\n",
       "feature_3     0\n",
       "feature_4     0\n",
       "feature_5     0\n",
       "feature_6     0\n",
       "feature_7     0\n",
       "feature_8     0\n",
       "category_1    0\n",
       "category_2    0\n",
       "target        0\n",
       "dtype: int64"
      ]
     },
     "execution_count": 46,
     "metadata": {},
     "output_type": "execute_result"
    }
   ],
   "source": [
    "data_scaled.isnull().sum() "
   ]
  },
  {
   "cell_type": "code",
   "execution_count": 50,
   "id": "448388a8-5a54-424b-ad5a-0a206a0be5be",
   "metadata": {},
   "outputs": [
    {
     "data": {
      "text/plain": [
       "0"
      ]
     },
     "execution_count": 50,
     "metadata": {},
     "output_type": "execute_result"
    }
   ],
   "source": [
    "data_scaled.duplicated().sum()"
   ]
  },
  {
   "cell_type": "code",
   "execution_count": 52,
   "id": "9c998c72-89fc-4752-884c-15f216bad477",
   "metadata": {},
   "outputs": [],
   "source": [
    "data_num_features = data_scaled.select_dtypes(include=[np.number])"
   ]
  },
  {
   "cell_type": "code",
   "execution_count": 54,
   "id": "8cc3612e-ffca-4a4d-979c-0bbfb13f5493",
   "metadata": {},
   "outputs": [
    {
     "name": "stdout",
     "output_type": "stream",
     "text": [
      "     Feature  Number of Outliers\n",
      "0  feature_1                 113\n",
      "1  feature_2                 106\n",
      "2  feature_3                 107\n",
      "3  feature_4                  71\n",
      "4  feature_5                   0\n",
      "5  feature_6                 119\n",
      "6  feature_7                  69\n",
      "7  feature_8                  61\n",
      "8     target                   0\n"
     ]
    }
   ],
   "source": [
    "outliers_summary = {}\n",
    "\n",
    "for column in data_num_features.columns:\n",
    "  \n",
    "    Q1 = data_num_features[column].quantile(0.25)\n",
    "    Q3 = data_num_features[column].quantile(0.75)\n",
    "    IQR = Q3 - Q1\n",
    "\n",
    "    lower_bound = Q1 - 1.5 * IQR\n",
    "    upper_bound = Q3 + 1.5 * IQR\n",
    "\n",
    "    outliers = data_num_features[(data_num_features[column] < lower_bound) | (data_num_features[column] > upper_bound)]\n",
    "    outliers_summary[column] = len(outliers)\n",
    "\n",
    "outliers_summary_df = pd.DataFrame(list(outliers_summary.items()), columns=[\"Feature\", \"Number of Outliers\"])\n",
    "print(outliers_summary_df)\n"
   ]
  },
  {
   "cell_type": "code",
   "execution_count": 56,
   "id": "7a65bb0c-008f-4644-b9a7-0a11f84f87f0",
   "metadata": {},
   "outputs": [
    {
     "data": {
      "text/html": [
       "<div>\n",
       "<style scoped>\n",
       "    .dataframe tbody tr th:only-of-type {\n",
       "        vertical-align: middle;\n",
       "    }\n",
       "\n",
       "    .dataframe tbody tr th {\n",
       "        vertical-align: top;\n",
       "    }\n",
       "\n",
       "    .dataframe thead th {\n",
       "        text-align: right;\n",
       "    }\n",
       "</style>\n",
       "<table border=\"1\" class=\"dataframe\">\n",
       "  <thead>\n",
       "    <tr style=\"text-align: right;\">\n",
       "      <th></th>\n",
       "      <th>feature_1</th>\n",
       "      <th>feature_2</th>\n",
       "      <th>feature_3</th>\n",
       "      <th>feature_4</th>\n",
       "      <th>feature_5</th>\n",
       "      <th>feature_6</th>\n",
       "      <th>feature_7</th>\n",
       "      <th>feature_8</th>\n",
       "      <th>target</th>\n",
       "    </tr>\n",
       "  </thead>\n",
       "  <tbody>\n",
       "    <tr>\n",
       "      <th>0</th>\n",
       "      <td>0.399829</td>\n",
       "      <td>0.455772</td>\n",
       "      <td>-0.648521</td>\n",
       "      <td>0.833005</td>\n",
       "      <td>0.784920</td>\n",
       "      <td>-1.500000</td>\n",
       "      <td>-1.300105</td>\n",
       "      <td>-1.500000</td>\n",
       "      <td>1.0</td>\n",
       "    </tr>\n",
       "    <tr>\n",
       "      <th>1</th>\n",
       "      <td>-0.111735</td>\n",
       "      <td>-0.025993</td>\n",
       "      <td>0.003235</td>\n",
       "      <td>0.403768</td>\n",
       "      <td>0.704674</td>\n",
       "      <td>-1.500000</td>\n",
       "      <td>-1.339227</td>\n",
       "      <td>-1.500000</td>\n",
       "      <td>0.0</td>\n",
       "    </tr>\n",
       "    <tr>\n",
       "      <th>2</th>\n",
       "      <td>0.521460</td>\n",
       "      <td>0.554890</td>\n",
       "      <td>-0.764126</td>\n",
       "      <td>1.708266</td>\n",
       "      <td>-0.250029</td>\n",
       "      <td>1.956259</td>\n",
       "      <td>1.190238</td>\n",
       "      <td>1.503559</td>\n",
       "      <td>1.0</td>\n",
       "    </tr>\n",
       "    <tr>\n",
       "      <th>3</th>\n",
       "      <td>1.226670</td>\n",
       "      <td>1.058220</td>\n",
       "      <td>-1.500000</td>\n",
       "      <td>2.500000</td>\n",
       "      <td>0.882201</td>\n",
       "      <td>2.500000</td>\n",
       "      <td>2.120913</td>\n",
       "      <td>2.500000</td>\n",
       "      <td>1.0</td>\n",
       "    </tr>\n",
       "    <tr>\n",
       "      <th>4</th>\n",
       "      <td>-0.188987</td>\n",
       "      <td>-0.200440</td>\n",
       "      <td>0.576097</td>\n",
       "      <td>-0.441656</td>\n",
       "      <td>0.610601</td>\n",
       "      <td>0.211425</td>\n",
       "      <td>0.935759</td>\n",
       "      <td>-0.401463</td>\n",
       "      <td>0.0</td>\n",
       "    </tr>\n",
       "  </tbody>\n",
       "</table>\n",
       "</div>"
      ],
      "text/plain": [
       "   feature_1  feature_2  feature_3  feature_4  feature_5  feature_6  \\\n",
       "0   0.399829   0.455772  -0.648521   0.833005   0.784920  -1.500000   \n",
       "1  -0.111735  -0.025993   0.003235   0.403768   0.704674  -1.500000   \n",
       "2   0.521460   0.554890  -0.764126   1.708266  -0.250029   1.956259   \n",
       "3   1.226670   1.058220  -1.500000   2.500000   0.882201   2.500000   \n",
       "4  -0.188987  -0.200440   0.576097  -0.441656   0.610601   0.211425   \n",
       "\n",
       "   feature_7  feature_8  target  \n",
       "0  -1.300105  -1.500000     1.0  \n",
       "1  -1.339227  -1.500000     0.0  \n",
       "2   1.190238   1.503559     1.0  \n",
       "3   2.120913   2.500000     1.0  \n",
       "4   0.935759  -0.401463     0.0  "
      ]
     },
     "execution_count": 56,
     "metadata": {},
     "output_type": "execute_result"
    }
   ],
   "source": [
    "data_clipped = data_num_features.copy()\n",
    "\n",
    "for column in data_num_features.columns:\n",
    "    data_clipped[column] = data_clipped[column].clip(lower=lower_bound, upper=upper_bound)\n",
    "\n",
    "    remaining_outliers = data_clipped[(data_clipped[column] < lower_bound) | (data_clipped[column] > upper_bound)]\n",
    "    outliers_summary_df[column] = len(remaining_outliers)\n",
    "\n",
    "data_clipped.head()"
   ]
  },
  {
   "cell_type": "code",
   "execution_count": 66,
   "id": "3af3660f-a1a1-4b61-b3f7-a69217de6b76",
   "metadata": {},
   "outputs": [
    {
     "data": {
      "text/plain": [
       "category_1\n",
       "Low              2802\n",
       "High             2763\n",
       "Above Average    1727\n",
       "Below Average    1708\n",
       "Name: count, dtype: int64"
      ]
     },
     "execution_count": 66,
     "metadata": {},
     "output_type": "execute_result"
    }
   ],
   "source": [
    "data_scaled[\"category_1\"].value_counts()"
   ]
  },
  {
   "cell_type": "code",
   "execution_count": 68,
   "id": "3d0e328e-d58c-49af-b9bd-3b3b54ebccde",
   "metadata": {},
   "outputs": [
    {
     "data": {
      "text/plain": [
       "category_2\n",
       "Region B    3618\n",
       "Region A    3551\n",
       "Region C    1831\n",
       "Name: count, dtype: int64"
      ]
     },
     "execution_count": 68,
     "metadata": {},
     "output_type": "execute_result"
    }
   ],
   "source": [
    "data_scaled[\"category_2\"].value_counts()"
   ]
  },
  {
   "cell_type": "code",
   "execution_count": 70,
   "id": "618ae2f8-2b8f-4e6b-8481-854786cdeba1",
   "metadata": {},
   "outputs": [
    {
     "data": {
      "text/html": [
       "<div>\n",
       "<style scoped>\n",
       "    .dataframe tbody tr th:only-of-type {\n",
       "        vertical-align: middle;\n",
       "    }\n",
       "\n",
       "    .dataframe tbody tr th {\n",
       "        vertical-align: top;\n",
       "    }\n",
       "\n",
       "    .dataframe thead th {\n",
       "        text-align: right;\n",
       "    }\n",
       "</style>\n",
       "<table border=\"1\" class=\"dataframe\">\n",
       "  <thead>\n",
       "    <tr style=\"text-align: right;\">\n",
       "      <th></th>\n",
       "      <th>category_1</th>\n",
       "      <th>category_2</th>\n",
       "    </tr>\n",
       "  </thead>\n",
       "  <tbody>\n",
       "    <tr>\n",
       "      <th>0</th>\n",
       "      <td>Above Average</td>\n",
       "      <td>Region C</td>\n",
       "    </tr>\n",
       "    <tr>\n",
       "      <th>1</th>\n",
       "      <td>Below Average</td>\n",
       "      <td>Region A</td>\n",
       "    </tr>\n",
       "    <tr>\n",
       "      <th>2</th>\n",
       "      <td>High</td>\n",
       "      <td>Region C</td>\n",
       "    </tr>\n",
       "    <tr>\n",
       "      <th>3</th>\n",
       "      <td>High</td>\n",
       "      <td>Region B</td>\n",
       "    </tr>\n",
       "    <tr>\n",
       "      <th>4</th>\n",
       "      <td>Below Average</td>\n",
       "      <td>Region C</td>\n",
       "    </tr>\n",
       "  </tbody>\n",
       "</table>\n",
       "</div>"
      ],
      "text/plain": [
       "      category_1 category_2\n",
       "0  Above Average   Region C\n",
       "1  Below Average   Region A\n",
       "2           High   Region C\n",
       "3           High   Region B\n",
       "4  Below Average   Region C"
      ]
     },
     "execution_count": 70,
     "metadata": {},
     "output_type": "execute_result"
    }
   ],
   "source": [
    "data_categ = data_scaled[[\"category_1\", \"category_2\"]]\n",
    "data_categ.head() "
   ]
  },
  {
   "cell_type": "code",
   "execution_count": 72,
   "id": "6e257c6d-1994-4100-8599-d9012893fa58",
   "metadata": {},
   "outputs": [],
   "source": [
    "from sklearn.preprocessing import OneHotEncoder "
   ]
  },
  {
   "cell_type": "code",
   "execution_count": 74,
   "id": "3c88e157-cbb9-4195-870e-c681d23e2c4e",
   "metadata": {},
   "outputs": [],
   "source": [
    "category_encoder = OneHotEncoder()\n",
    "data_categ_1hot = category_encoder.fit_transform(data_categ)"
   ]
  },
  {
   "cell_type": "code",
   "execution_count": 76,
   "id": "99624e06-0a43-47f6-9041-f2de1c758297",
   "metadata": {},
   "outputs": [
    {
     "data": {
      "text/plain": [
       "<9000x7 sparse matrix of type '<class 'numpy.float64'>'\n",
       "\twith 18000 stored elements in Compressed Sparse Row format>"
      ]
     },
     "execution_count": 76,
     "metadata": {},
     "output_type": "execute_result"
    }
   ],
   "source": [
    "data_categ_1hot"
   ]
  },
  {
   "cell_type": "code",
   "execution_count": 78,
   "id": "e8b4cd2f-3dd0-4606-afc5-7bd3303009bc",
   "metadata": {},
   "outputs": [
    {
     "data": {
      "text/plain": [
       "array([[1., 0., 0., ..., 0., 0., 1.],\n",
       "       [0., 1., 0., ..., 1., 0., 0.],\n",
       "       [0., 0., 1., ..., 0., 0., 1.],\n",
       "       ...,\n",
       "       [0., 0., 1., ..., 0., 0., 1.],\n",
       "       [0., 0., 0., ..., 0., 1., 0.],\n",
       "       [0., 0., 1., ..., 0., 0., 1.]])"
      ]
     },
     "execution_count": 78,
     "metadata": {},
     "output_type": "execute_result"
    }
   ],
   "source": [
    "data_categ_dense = data_categ_1hot.toarray()\n",
    "data_categ_dense"
   ]
  },
  {
   "cell_type": "code",
   "execution_count": 80,
   "id": "39a1a327-a48d-4934-b28a-d70c275c1352",
   "metadata": {},
   "outputs": [
    {
     "data": {
      "text/plain": [
       "array(['category_1_Above Average', 'category_1_Below Average',\n",
       "       'category_1_High', 'category_1_Low', 'category_2_Region A',\n",
       "       'category_2_Region B', 'category_2_Region C'], dtype=object)"
      ]
     },
     "execution_count": 80,
     "metadata": {},
     "output_type": "execute_result"
    }
   ],
   "source": [
    "encoded_feature_names = category_encoder.get_feature_names_out()\n",
    "encoded_feature_names"
   ]
  },
  {
   "cell_type": "code",
   "execution_count": 82,
   "id": "e0674cf6-8ef6-4622-8f37-bcb9f1fb92b8",
   "metadata": {},
   "outputs": [
    {
     "data": {
      "text/plain": [
       "numpy.ndarray"
      ]
     },
     "execution_count": 82,
     "metadata": {},
     "output_type": "execute_result"
    }
   ],
   "source": [
    "type(data_categ_dense)"
   ]
  },
  {
   "cell_type": "code",
   "execution_count": 84,
   "id": "7dc2fb52-4c79-41f3-bd4d-0a16fa94c2ce",
   "metadata": {},
   "outputs": [
    {
     "data": {
      "text/plain": [
       "pandas.core.frame.DataFrame"
      ]
     },
     "execution_count": 84,
     "metadata": {},
     "output_type": "execute_result"
    }
   ],
   "source": [
    "data_categ_df = pd.DataFrame(data_categ_1hot.toarray(), columns=encoded_feature_names)\n",
    "type(data_categ_df)"
   ]
  },
  {
   "cell_type": "code",
   "execution_count": 86,
   "id": "1633f4f3-fd1a-4cd4-b8cb-8b7ddfc54250",
   "metadata": {},
   "outputs": [],
   "source": [
    "data_combined = pd.concat([data_clipped, data_categ_df], axis=1)"
   ]
  },
  {
   "cell_type": "code",
   "execution_count": 88,
   "id": "b081e3e3-8681-417d-80e3-9dba624f632f",
   "metadata": {},
   "outputs": [
    {
     "data": {
      "text/html": [
       "<div>\n",
       "<style scoped>\n",
       "    .dataframe tbody tr th:only-of-type {\n",
       "        vertical-align: middle;\n",
       "    }\n",
       "\n",
       "    .dataframe tbody tr th {\n",
       "        vertical-align: top;\n",
       "    }\n",
       "\n",
       "    .dataframe thead th {\n",
       "        text-align: right;\n",
       "    }\n",
       "</style>\n",
       "<table border=\"1\" class=\"dataframe\">\n",
       "  <thead>\n",
       "    <tr style=\"text-align: right;\">\n",
       "      <th></th>\n",
       "      <th>feature_1</th>\n",
       "      <th>feature_2</th>\n",
       "      <th>feature_3</th>\n",
       "      <th>feature_4</th>\n",
       "      <th>feature_5</th>\n",
       "      <th>feature_6</th>\n",
       "      <th>feature_7</th>\n",
       "      <th>feature_8</th>\n",
       "      <th>target</th>\n",
       "      <th>category_1_Above Average</th>\n",
       "      <th>category_1_Below Average</th>\n",
       "      <th>category_1_High</th>\n",
       "      <th>category_1_Low</th>\n",
       "      <th>category_2_Region A</th>\n",
       "      <th>category_2_Region B</th>\n",
       "      <th>category_2_Region C</th>\n",
       "    </tr>\n",
       "  </thead>\n",
       "  <tbody>\n",
       "    <tr>\n",
       "      <th>0</th>\n",
       "      <td>0.399829</td>\n",
       "      <td>0.455772</td>\n",
       "      <td>-0.648521</td>\n",
       "      <td>0.833005</td>\n",
       "      <td>0.784920</td>\n",
       "      <td>-1.500000</td>\n",
       "      <td>-1.300105</td>\n",
       "      <td>-1.500000</td>\n",
       "      <td>1.0</td>\n",
       "      <td>1.0</td>\n",
       "      <td>0.0</td>\n",
       "      <td>0.0</td>\n",
       "      <td>0.0</td>\n",
       "      <td>0.0</td>\n",
       "      <td>0.0</td>\n",
       "      <td>1.0</td>\n",
       "    </tr>\n",
       "    <tr>\n",
       "      <th>1</th>\n",
       "      <td>-0.111735</td>\n",
       "      <td>-0.025993</td>\n",
       "      <td>0.003235</td>\n",
       "      <td>0.403768</td>\n",
       "      <td>0.704674</td>\n",
       "      <td>-1.500000</td>\n",
       "      <td>-1.339227</td>\n",
       "      <td>-1.500000</td>\n",
       "      <td>0.0</td>\n",
       "      <td>0.0</td>\n",
       "      <td>1.0</td>\n",
       "      <td>0.0</td>\n",
       "      <td>0.0</td>\n",
       "      <td>1.0</td>\n",
       "      <td>0.0</td>\n",
       "      <td>0.0</td>\n",
       "    </tr>\n",
       "    <tr>\n",
       "      <th>2</th>\n",
       "      <td>0.521460</td>\n",
       "      <td>0.554890</td>\n",
       "      <td>-0.764126</td>\n",
       "      <td>1.708266</td>\n",
       "      <td>-0.250029</td>\n",
       "      <td>1.956259</td>\n",
       "      <td>1.190238</td>\n",
       "      <td>1.503559</td>\n",
       "      <td>1.0</td>\n",
       "      <td>0.0</td>\n",
       "      <td>0.0</td>\n",
       "      <td>1.0</td>\n",
       "      <td>0.0</td>\n",
       "      <td>0.0</td>\n",
       "      <td>0.0</td>\n",
       "      <td>1.0</td>\n",
       "    </tr>\n",
       "    <tr>\n",
       "      <th>3</th>\n",
       "      <td>1.226670</td>\n",
       "      <td>1.058220</td>\n",
       "      <td>-1.500000</td>\n",
       "      <td>2.500000</td>\n",
       "      <td>0.882201</td>\n",
       "      <td>2.500000</td>\n",
       "      <td>2.120913</td>\n",
       "      <td>2.500000</td>\n",
       "      <td>1.0</td>\n",
       "      <td>0.0</td>\n",
       "      <td>0.0</td>\n",
       "      <td>1.0</td>\n",
       "      <td>0.0</td>\n",
       "      <td>0.0</td>\n",
       "      <td>1.0</td>\n",
       "      <td>0.0</td>\n",
       "    </tr>\n",
       "    <tr>\n",
       "      <th>4</th>\n",
       "      <td>-0.188987</td>\n",
       "      <td>-0.200440</td>\n",
       "      <td>0.576097</td>\n",
       "      <td>-0.441656</td>\n",
       "      <td>0.610601</td>\n",
       "      <td>0.211425</td>\n",
       "      <td>0.935759</td>\n",
       "      <td>-0.401463</td>\n",
       "      <td>0.0</td>\n",
       "      <td>0.0</td>\n",
       "      <td>1.0</td>\n",
       "      <td>0.0</td>\n",
       "      <td>0.0</td>\n",
       "      <td>0.0</td>\n",
       "      <td>0.0</td>\n",
       "      <td>1.0</td>\n",
       "    </tr>\n",
       "  </tbody>\n",
       "</table>\n",
       "</div>"
      ],
      "text/plain": [
       "   feature_1  feature_2  feature_3  feature_4  feature_5  feature_6  \\\n",
       "0   0.399829   0.455772  -0.648521   0.833005   0.784920  -1.500000   \n",
       "1  -0.111735  -0.025993   0.003235   0.403768   0.704674  -1.500000   \n",
       "2   0.521460   0.554890  -0.764126   1.708266  -0.250029   1.956259   \n",
       "3   1.226670   1.058220  -1.500000   2.500000   0.882201   2.500000   \n",
       "4  -0.188987  -0.200440   0.576097  -0.441656   0.610601   0.211425   \n",
       "\n",
       "   feature_7  feature_8  target  category_1_Above Average  \\\n",
       "0  -1.300105  -1.500000     1.0                       1.0   \n",
       "1  -1.339227  -1.500000     0.0                       0.0   \n",
       "2   1.190238   1.503559     1.0                       0.0   \n",
       "3   2.120913   2.500000     1.0                       0.0   \n",
       "4   0.935759  -0.401463     0.0                       0.0   \n",
       "\n",
       "   category_1_Below Average  category_1_High  category_1_Low  \\\n",
       "0                       0.0              0.0             0.0   \n",
       "1                       1.0              0.0             0.0   \n",
       "2                       0.0              1.0             0.0   \n",
       "3                       0.0              1.0             0.0   \n",
       "4                       1.0              0.0             0.0   \n",
       "\n",
       "   category_2_Region A  category_2_Region B  category_2_Region C  \n",
       "0                  0.0                  0.0                  1.0  \n",
       "1                  1.0                  0.0                  0.0  \n",
       "2                  0.0                  0.0                  1.0  \n",
       "3                  0.0                  1.0                  0.0  \n",
       "4                  0.0                  0.0                  1.0  "
      ]
     },
     "execution_count": 88,
     "metadata": {},
     "output_type": "execute_result"
    }
   ],
   "source": [
    "data_combined.head()"
   ]
  },
  {
   "cell_type": "markdown",
   "id": "7afd8bf4-e51a-4e5f-bdbe-a739e959f702",
   "metadata": {},
   "source": [
    "## Section #3 “Exploratory Data Analysis”"
   ]
  },
  {
   "cell_type": "code",
   "execution_count": 93,
   "id": "f0e495b9-7e1f-49ef-bcc1-1d9857294380",
   "metadata": {},
   "outputs": [
    {
     "data": {
      "image/png": "[encoded data removed]",
      "text/plain": [
       "<Figure size 1600x800 with 8 Axes>"
      ]
     },
     "metadata": {},
     "output_type": "display_data"
    }
   ],
   "source": [
    "import matplotlib.pyplot as plt\n",
    "import seaborn as sns\n",
    "\n",
    "# Exclude the target column from numerical features\n",
    "num_features = [col for col in data_clipped.columns if col != 'target']\n",
    "\n",
    "# Create boxplots for each numerical feature against the target\n",
    "plt.figure(figsize=(16, 8))\n",
    "for i, feature in enumerate(num_features, 1):\n",
    "    plt.subplot(2, 4, i)\n",
    "    sns.boxplot(x=data_clipped[\"target\"], y=data_clipped[feature])\n",
    "    plt.title(f\"Boxplot: {feature} vs Target\")\n",
    "    plt.xlabel(\"Target\")\n",
    "    plt.ylabel(feature)\n",
    "plt.tight_layout()\n",
    "plt.show()"
   ]
  },
  {
   "cell_type": "code",
   "execution_count": 95,
   "id": "ad269de1-035c-4de3-863c-b696726546e2",
   "metadata": {},
   "outputs": [
    {
     "data": {
      "image/png": "[encoded data removed]",
      "text/plain": [
       "<Figure size 1000x800 with 2 Axes>"
      ]
     },
     "metadata": {},
     "output_type": "display_data"
    }
   ],
   "source": [
    "plt.figure(figsize=(10, 8))\n",
    "sns.heatmap(data_clipped.corr(), annot=True, cmap='coolwarm', fmt=\".2f\")\n",
    "plt.title(\"Correlation Matrix\")\n",
    "plt.show()"
   ]
  },
  {
   "cell_type": "code",
   "execution_count": 97,
   "id": "284849e6-c5a4-42eb-bef5-05e010c44801",
   "metadata": {},
   "outputs": [],
   "source": [
    "from scipy.stats import ttest_ind"
   ]
  },
  {
   "cell_type": "code",
   "execution_count": 99,
   "id": "220c35cc-ba66-401c-ae87-7fb7f467f639",
   "metadata": {},
   "outputs": [],
   "source": [
    "class_0 = data_clipped[data_clipped[\"target\"] == 0][\"feature_4\"]\n",
    "class_1 = data_clipped[data_clipped[\"target\"] == 1][\"feature_4\"]\n",
    "\n",
    "t_stat, p_value = ttest_ind(class_0, class_1, nan_policy=\"omit\")"
   ]
  },
  {
   "cell_type": "code",
   "execution_count": 111,
   "id": "af7e5c90-7941-4c37-94e6-b3d24d9ebab9",
   "metadata": {},
   "outputs": [
    {
     "data": {
      "text/plain": [
       "-104.37744687669479"
      ]
     },
     "execution_count": 111,
     "metadata": {},
     "output_type": "execute_result"
    }
   ],
   "source": [
    "t_stat"
   ]
  },
  {
   "cell_type": "code",
   "execution_count": 103,
   "id": "fed9a0b5-c9ac-4bfb-941d-3c8724436a7c",
   "metadata": {},
   "outputs": [
    {
     "data": {
      "text/plain": [
       "0.0"
      ]
     },
     "execution_count": 103,
     "metadata": {},
     "output_type": "execute_result"
    }
   ],
   "source": [
    "p_value"
   ]
  },
  {
   "cell_type": "code",
   "execution_count": null,
   "id": "d6db46be-af50-429b-b9e8-0135e05c0ee3",
   "metadata": {},
   "outputs": [],
   "source": [
    "class_0 = data_clipped[data_clipped[\"target\"] == 0][\"feature_8\"]\n",
    "class_1 = data_clipped[data_clipped[\"target\"] == 1][\"feature_8\"]\n",
    "\n",
    "t_stat, p_value = ttest_ind(class_0, group_1, nan_policy=\"omit\")"
   ]
  },
  {
   "cell_type": "code",
   "execution_count": 109,
   "id": "974495c7-8be8-4be3-93ff-35b5678aac02",
   "metadata": {},
   "outputs": [
    {
     "data": {
      "text/plain": [
       "-104.37744687669479"
      ]
     },
     "execution_count": 109,
     "metadata": {},
     "output_type": "execute_result"
    }
   ],
   "source": [
    "t_stat"
   ]
  },
  {
   "cell_type": "code",
   "execution_count": 107,
   "id": "9e13f22b-e9b7-4311-8467-48762db5c8ac",
   "metadata": {},
   "outputs": [
    {
     "data": {
      "text/plain": [
       "0.0"
      ]
     },
     "execution_count": 107,
     "metadata": {},
     "output_type": "execute_result"
    }
   ],
   "source": [
    "p_value"
   ]
  },
  {
   "cell_type": "code",
   "execution_count": 122,
   "id": "eb12d71f-c7f2-4180-bf34-018da6475de5",
   "metadata": {},
   "outputs": [
    {
     "name": "stdout",
     "output_type": "stream",
     "text": [
      "           t_statistic   p_value\n",
      "feature_1   -95.777853  0.000000\n",
      "feature_2   -96.660291  0.000000\n",
      "feature_3    97.099908  0.000000\n",
      "feature_4  -104.377447  0.000000\n",
      "feature_5     0.746804  0.455201\n",
      "feature_6    -0.452174  0.651154\n",
      "feature_7     0.345268  0.729901\n",
      "feature_8    -0.833639  0.404507\n"
     ]
    }
   ],
   "source": [
    "from scipy.stats import ttest_ind\n",
    "\n",
    "# Separate the data into two groups based on the target variable\n",
    "class_0 = data_clipped[data_clipped[\"target\"] == 0]\n",
    "class_1 = data_clipped[data_clipped[\"target\"] == 1]\n",
    "\n",
    "# Initialize a dictionary to store results\n",
    "t_test_results = {}\n",
    "\n",
    "# Iterate through all numerical features\n",
    "numerical_features = [col for col in data_clipped.columns if data_clipped[col].dtype != 'object' and col != 'target']\n",
    "\n",
    "for feature in numerical_features:\n",
    "    # Perform the t-test for the current feature\n",
    "    t_stat, p_value = ttest_ind(class_0[feature], class_1[feature], nan_policy=\"omit\")\n",
    "    \n",
    "    # Store the results\n",
    "    t_test_results[feature] = {\"t_statistic\": t_stat, \"p_value\": p_value}\n",
    "\n",
    "# Convert results to a DataFrame for better visualization\n",
    "import pandas as pd\n",
    "t_test_results_df = pd.DataFrame.from_dict(t_test_results, orient=\"index\")\n",
    "\n",
    "# Display results\n",
    "print(t_test_results_df)\n"
   ]
  },
  {
   "cell_type": "code",
   "execution_count": 113,
   "id": "536f2d59-a402-4c0a-8414-431ff0df4017",
   "metadata": {},
   "outputs": [],
   "source": [
    "from scipy.stats import chi2_contingency"
   ]
  },
  {
   "cell_type": "code",
   "execution_count": 119,
   "id": "4b881501-0da3-4676-9552-e7c2dc295fdc",
   "metadata": {},
   "outputs": [
    {
     "name": "stdout",
     "output_type": "stream",
     "text": [
      "category_1_Above Average: p-value = 1.0973089049795431e-72\n",
      "category_2_Region A: p-value = 0.9723286358025476\n"
     ]
    }
   ],
   "source": [
    "selected_features = ['category_1_Above Average', 'category_2_Region A']\n",
    "\n",
    "chi2_results = {}\n",
    "\n",
    "for feature in selected_features:\n",
    "\n",
    "    data_chi_test = pd.crosstab(data_combined[feature], data_clipped[\"target\"])\n",
    "\n",
    "    chi2_stat, p_value, dof, expected = chi2_contingency(data_chi_test)\n",
    "\n",
    "    chi2_results[feature] = {\"p-value\": p_value}\n",
    "\n",
    "    print(f\"{feature}: p-value = {p_value}\")"
   ]
  },
  {
   "cell_type": "markdown",
   "id": "78b3475f-04a2-4888-acdd-56bb80f75f8e",
   "metadata": {},
   "source": [
    "## Section 4 \"Feature Engineering\""
   ]
  },
  {
   "cell_type": "code",
   "execution_count": 126,
   "id": "0d40dca8-9fb4-4736-8fbf-c32ef1dab6d6",
   "metadata": {},
   "outputs": [],
   "source": [
    "data_newFeature = data_combined.copy()\n",
    "\n",
    "data_newFeature['category_high_and_above'] = data_newFeature['category_1_High'] + data_newFeature['category_1_Above Average']\n",
    "\n",
    "data_newFeature['category_low_and_below'] = data_newFeature['category_1_Low'] + data_newFeature['category_1_Below Average']"
   ]
  },
  {
   "cell_type": "code",
   "execution_count": 128,
   "id": "15cc9e75-20bd-41ef-a4c3-778de2a69e76",
   "metadata": {},
   "outputs": [],
   "source": [
    "data_newFeature['feature_1_feature_2_ratio'] = data_newFeature['feature_1'] / (data_newFeature['feature_2']) "
   ]
  },
  {
   "cell_type": "code",
   "execution_count": 130,
   "id": "6b63b59e-8bc3-4289-8c32-745def2a8c33",
   "metadata": {},
   "outputs": [
    {
     "data": {
      "text/html": [
       "<div>\n",
       "<style scoped>\n",
       "    .dataframe tbody tr th:only-of-type {\n",
       "        vertical-align: middle;\n",
       "    }\n",
       "\n",
       "    .dataframe tbody tr th {\n",
       "        vertical-align: top;\n",
       "    }\n",
       "\n",
       "    .dataframe thead th {\n",
       "        text-align: right;\n",
       "    }\n",
       "</style>\n",
       "<table border=\"1\" class=\"dataframe\">\n",
       "  <thead>\n",
       "    <tr style=\"text-align: right;\">\n",
       "      <th></th>\n",
       "      <th>feature_1</th>\n",
       "      <th>feature_2</th>\n",
       "      <th>feature_3</th>\n",
       "      <th>feature_4</th>\n",
       "      <th>feature_5</th>\n",
       "      <th>feature_6</th>\n",
       "      <th>feature_7</th>\n",
       "      <th>feature_8</th>\n",
       "      <th>target</th>\n",
       "      <th>category_1_Above Average</th>\n",
       "      <th>category_1_Below Average</th>\n",
       "      <th>category_1_High</th>\n",
       "      <th>category_1_Low</th>\n",
       "      <th>category_2_Region A</th>\n",
       "      <th>category_2_Region B</th>\n",
       "      <th>category_2_Region C</th>\n",
       "      <th>category_high_and_above</th>\n",
       "      <th>category_low_and_below</th>\n",
       "      <th>feature_1_feature_2_ratio</th>\n",
       "    </tr>\n",
       "  </thead>\n",
       "  <tbody>\n",
       "    <tr>\n",
       "      <th>0</th>\n",
       "      <td>0.399829</td>\n",
       "      <td>0.455772</td>\n",
       "      <td>-0.648521</td>\n",
       "      <td>0.833005</td>\n",
       "      <td>0.784920</td>\n",
       "      <td>-1.500000</td>\n",
       "      <td>-1.300105</td>\n",
       "      <td>-1.500000</td>\n",
       "      <td>1.0</td>\n",
       "      <td>1.0</td>\n",
       "      <td>0.0</td>\n",
       "      <td>0.0</td>\n",
       "      <td>0.0</td>\n",
       "      <td>0.0</td>\n",
       "      <td>0.0</td>\n",
       "      <td>1.0</td>\n",
       "      <td>1.0</td>\n",
       "      <td>0.0</td>\n",
       "      <td>0.877257</td>\n",
       "    </tr>\n",
       "    <tr>\n",
       "      <th>1</th>\n",
       "      <td>-0.111735</td>\n",
       "      <td>-0.025993</td>\n",
       "      <td>0.003235</td>\n",
       "      <td>0.403768</td>\n",
       "      <td>0.704674</td>\n",
       "      <td>-1.500000</td>\n",
       "      <td>-1.339227</td>\n",
       "      <td>-1.500000</td>\n",
       "      <td>0.0</td>\n",
       "      <td>0.0</td>\n",
       "      <td>1.0</td>\n",
       "      <td>0.0</td>\n",
       "      <td>0.0</td>\n",
       "      <td>1.0</td>\n",
       "      <td>0.0</td>\n",
       "      <td>0.0</td>\n",
       "      <td>0.0</td>\n",
       "      <td>1.0</td>\n",
       "      <td>4.298651</td>\n",
       "    </tr>\n",
       "    <tr>\n",
       "      <th>2</th>\n",
       "      <td>0.521460</td>\n",
       "      <td>0.554890</td>\n",
       "      <td>-0.764126</td>\n",
       "      <td>1.708266</td>\n",
       "      <td>-0.250029</td>\n",
       "      <td>1.956259</td>\n",
       "      <td>1.190238</td>\n",
       "      <td>1.503559</td>\n",
       "      <td>1.0</td>\n",
       "      <td>0.0</td>\n",
       "      <td>0.0</td>\n",
       "      <td>1.0</td>\n",
       "      <td>0.0</td>\n",
       "      <td>0.0</td>\n",
       "      <td>0.0</td>\n",
       "      <td>1.0</td>\n",
       "      <td>1.0</td>\n",
       "      <td>0.0</td>\n",
       "      <td>0.939754</td>\n",
       "    </tr>\n",
       "    <tr>\n",
       "      <th>3</th>\n",
       "      <td>1.226670</td>\n",
       "      <td>1.058220</td>\n",
       "      <td>-1.500000</td>\n",
       "      <td>2.500000</td>\n",
       "      <td>0.882201</td>\n",
       "      <td>2.500000</td>\n",
       "      <td>2.120913</td>\n",
       "      <td>2.500000</td>\n",
       "      <td>1.0</td>\n",
       "      <td>0.0</td>\n",
       "      <td>0.0</td>\n",
       "      <td>1.0</td>\n",
       "      <td>0.0</td>\n",
       "      <td>0.0</td>\n",
       "      <td>1.0</td>\n",
       "      <td>0.0</td>\n",
       "      <td>1.0</td>\n",
       "      <td>0.0</td>\n",
       "      <td>1.159182</td>\n",
       "    </tr>\n",
       "    <tr>\n",
       "      <th>4</th>\n",
       "      <td>-0.188987</td>\n",
       "      <td>-0.200440</td>\n",
       "      <td>0.576097</td>\n",
       "      <td>-0.441656</td>\n",
       "      <td>0.610601</td>\n",
       "      <td>0.211425</td>\n",
       "      <td>0.935759</td>\n",
       "      <td>-0.401463</td>\n",
       "      <td>0.0</td>\n",
       "      <td>0.0</td>\n",
       "      <td>1.0</td>\n",
       "      <td>0.0</td>\n",
       "      <td>0.0</td>\n",
       "      <td>0.0</td>\n",
       "      <td>0.0</td>\n",
       "      <td>1.0</td>\n",
       "      <td>0.0</td>\n",
       "      <td>1.0</td>\n",
       "      <td>0.942862</td>\n",
       "    </tr>\n",
       "  </tbody>\n",
       "</table>\n",
       "</div>"
      ],
      "text/plain": [
       "   feature_1  feature_2  feature_3  feature_4  feature_5  feature_6  \\\n",
       "0   0.399829   0.455772  -0.648521   0.833005   0.784920  -1.500000   \n",
       "1  -0.111735  -0.025993   0.003235   0.403768   0.704674  -1.500000   \n",
       "2   0.521460   0.554890  -0.764126   1.708266  -0.250029   1.956259   \n",
       "3   1.226670   1.058220  -1.500000   2.500000   0.882201   2.500000   \n",
       "4  -0.188987  -0.200440   0.576097  -0.441656   0.610601   0.211425   \n",
       "\n",
       "   feature_7  feature_8  target  category_1_Above Average  \\\n",
       "0  -1.300105  -1.500000     1.0                       1.0   \n",
       "1  -1.339227  -1.500000     0.0                       0.0   \n",
       "2   1.190238   1.503559     1.0                       0.0   \n",
       "3   2.120913   2.500000     1.0                       0.0   \n",
       "4   0.935759  -0.401463     0.0                       0.0   \n",
       "\n",
       "   category_1_Below Average  category_1_High  category_1_Low  \\\n",
       "0                       0.0              0.0             0.0   \n",
       "1                       1.0              0.0             0.0   \n",
       "2                       0.0              1.0             0.0   \n",
       "3                       0.0              1.0             0.0   \n",
       "4                       1.0              0.0             0.0   \n",
       "\n",
       "   category_2_Region A  category_2_Region B  category_2_Region C  \\\n",
       "0                  0.0                  0.0                  1.0   \n",
       "1                  1.0                  0.0                  0.0   \n",
       "2                  0.0                  0.0                  1.0   \n",
       "3                  0.0                  1.0                  0.0   \n",
       "4                  0.0                  0.0                  1.0   \n",
       "\n",
       "   category_high_and_above  category_low_and_below  feature_1_feature_2_ratio  \n",
       "0                      1.0                     0.0                   0.877257  \n",
       "1                      0.0                     1.0                   4.298651  \n",
       "2                      1.0                     0.0                   0.939754  \n",
       "3                      1.0                     0.0                   1.159182  \n",
       "4                      0.0                     1.0                   0.942862  "
      ]
     },
     "execution_count": 130,
     "metadata": {},
     "output_type": "execute_result"
    }
   ],
   "source": [
    "data_newFeature.head()"
   ]
  },
  {
   "cell_type": "code",
   "execution_count": 134,
   "id": "9aaf9646-eccf-4301-8e7c-6764f7d9bda3",
   "metadata": {},
   "outputs": [],
   "source": [
    "columns_to_drop = ['category_1_Above Average', 'category_1_Below Average', 'category_1_High', 'category_1_Low'] \n",
    "data_drop = data_newFeature.copy()\n",
    "data_drop = data_drop.drop(columns=columns_to_drop)"
   ]
  },
  {
   "cell_type": "code",
   "execution_count": 136,
   "id": "0da35ecb-bcdf-4879-8e11-0791dc54bb72",
   "metadata": {},
   "outputs": [
    {
     "data": {
      "text/html": [
       "<div>\n",
       "<style scoped>\n",
       "    .dataframe tbody tr th:only-of-type {\n",
       "        vertical-align: middle;\n",
       "    }\n",
       "\n",
       "    .dataframe tbody tr th {\n",
       "        vertical-align: top;\n",
       "    }\n",
       "\n",
       "    .dataframe thead th {\n",
       "        text-align: right;\n",
       "    }\n",
       "</style>\n",
       "<table border=\"1\" class=\"dataframe\">\n",
       "  <thead>\n",
       "    <tr style=\"text-align: right;\">\n",
       "      <th></th>\n",
       "      <th>feature_1</th>\n",
       "      <th>feature_2</th>\n",
       "      <th>feature_3</th>\n",
       "      <th>feature_4</th>\n",
       "      <th>feature_5</th>\n",
       "      <th>feature_6</th>\n",
       "      <th>feature_7</th>\n",
       "      <th>feature_8</th>\n",
       "      <th>target</th>\n",
       "      <th>category_2_Region A</th>\n",
       "      <th>category_2_Region B</th>\n",
       "      <th>category_2_Region C</th>\n",
       "      <th>category_high_and_above</th>\n",
       "      <th>category_low_and_below</th>\n",
       "      <th>feature_1_feature_2_ratio</th>\n",
       "    </tr>\n",
       "  </thead>\n",
       "  <tbody>\n",
       "    <tr>\n",
       "      <th>0</th>\n",
       "      <td>0.399829</td>\n",
       "      <td>0.455772</td>\n",
       "      <td>-0.648521</td>\n",
       "      <td>0.833005</td>\n",
       "      <td>0.784920</td>\n",
       "      <td>-1.500000</td>\n",
       "      <td>-1.300105</td>\n",
       "      <td>-1.500000</td>\n",
       "      <td>1.0</td>\n",
       "      <td>0.0</td>\n",
       "      <td>0.0</td>\n",
       "      <td>1.0</td>\n",
       "      <td>1.0</td>\n",
       "      <td>0.0</td>\n",
       "      <td>0.877257</td>\n",
       "    </tr>\n",
       "    <tr>\n",
       "      <th>1</th>\n",
       "      <td>-0.111735</td>\n",
       "      <td>-0.025993</td>\n",
       "      <td>0.003235</td>\n",
       "      <td>0.403768</td>\n",
       "      <td>0.704674</td>\n",
       "      <td>-1.500000</td>\n",
       "      <td>-1.339227</td>\n",
       "      <td>-1.500000</td>\n",
       "      <td>0.0</td>\n",
       "      <td>1.0</td>\n",
       "      <td>0.0</td>\n",
       "      <td>0.0</td>\n",
       "      <td>0.0</td>\n",
       "      <td>1.0</td>\n",
       "      <td>4.298651</td>\n",
       "    </tr>\n",
       "    <tr>\n",
       "      <th>2</th>\n",
       "      <td>0.521460</td>\n",
       "      <td>0.554890</td>\n",
       "      <td>-0.764126</td>\n",
       "      <td>1.708266</td>\n",
       "      <td>-0.250029</td>\n",
       "      <td>1.956259</td>\n",
       "      <td>1.190238</td>\n",
       "      <td>1.503559</td>\n",
       "      <td>1.0</td>\n",
       "      <td>0.0</td>\n",
       "      <td>0.0</td>\n",
       "      <td>1.0</td>\n",
       "      <td>1.0</td>\n",
       "      <td>0.0</td>\n",
       "      <td>0.939754</td>\n",
       "    </tr>\n",
       "    <tr>\n",
       "      <th>3</th>\n",
       "      <td>1.226670</td>\n",
       "      <td>1.058220</td>\n",
       "      <td>-1.500000</td>\n",
       "      <td>2.500000</td>\n",
       "      <td>0.882201</td>\n",
       "      <td>2.500000</td>\n",
       "      <td>2.120913</td>\n",
       "      <td>2.500000</td>\n",
       "      <td>1.0</td>\n",
       "      <td>0.0</td>\n",
       "      <td>1.0</td>\n",
       "      <td>0.0</td>\n",
       "      <td>1.0</td>\n",
       "      <td>0.0</td>\n",
       "      <td>1.159182</td>\n",
       "    </tr>\n",
       "    <tr>\n",
       "      <th>4</th>\n",
       "      <td>-0.188987</td>\n",
       "      <td>-0.200440</td>\n",
       "      <td>0.576097</td>\n",
       "      <td>-0.441656</td>\n",
       "      <td>0.610601</td>\n",
       "      <td>0.211425</td>\n",
       "      <td>0.935759</td>\n",
       "      <td>-0.401463</td>\n",
       "      <td>0.0</td>\n",
       "      <td>0.0</td>\n",
       "      <td>0.0</td>\n",
       "      <td>1.0</td>\n",
       "      <td>0.0</td>\n",
       "      <td>1.0</td>\n",
       "      <td>0.942862</td>\n",
       "    </tr>\n",
       "  </tbody>\n",
       "</table>\n",
       "</div>"
      ],
      "text/plain": [
       "   feature_1  feature_2  feature_3  feature_4  feature_5  feature_6  \\\n",
       "0   0.399829   0.455772  -0.648521   0.833005   0.784920  -1.500000   \n",
       "1  -0.111735  -0.025993   0.003235   0.403768   0.704674  -1.500000   \n",
       "2   0.521460   0.554890  -0.764126   1.708266  -0.250029   1.956259   \n",
       "3   1.226670   1.058220  -1.500000   2.500000   0.882201   2.500000   \n",
       "4  -0.188987  -0.200440   0.576097  -0.441656   0.610601   0.211425   \n",
       "\n",
       "   feature_7  feature_8  target  category_2_Region A  category_2_Region B  \\\n",
       "0  -1.300105  -1.500000     1.0                  0.0                  0.0   \n",
       "1  -1.339227  -1.500000     0.0                  1.0                  0.0   \n",
       "2   1.190238   1.503559     1.0                  0.0                  0.0   \n",
       "3   2.120913   2.500000     1.0                  0.0                  1.0   \n",
       "4   0.935759  -0.401463     0.0                  0.0                  0.0   \n",
       "\n",
       "   category_2_Region C  category_high_and_above  category_low_and_below  \\\n",
       "0                  1.0                      1.0                     0.0   \n",
       "1                  0.0                      0.0                     1.0   \n",
       "2                  1.0                      1.0                     0.0   \n",
       "3                  0.0                      1.0                     0.0   \n",
       "4                  1.0                      0.0                     1.0   \n",
       "\n",
       "   feature_1_feature_2_ratio  \n",
       "0                   0.877257  \n",
       "1                   4.298651  \n",
       "2                   0.939754  \n",
       "3                   1.159182  \n",
       "4                   0.942862  "
      ]
     },
     "execution_count": 136,
     "metadata": {},
     "output_type": "execute_result"
    }
   ],
   "source": [
    "data_drop.head()"
   ]
  },
  {
   "cell_type": "markdown",
   "id": "05cccd45-067a-4d88-a248-fb1e12f279c7",
   "metadata": {},
   "source": [
    "## Section #5 \"Modeling\""
   ]
  },
  {
   "cell_type": "code",
   "execution_count": 146,
   "id": "18af9e9a-462f-445a-9d7f-154739d853d7",
   "metadata": {},
   "outputs": [],
   "source": [
    "from sklearn.model_selection import train_test_split"
   ]
  },
  {
   "cell_type": "code",
   "execution_count": 208,
   "id": "c74cd741-3178-46ef-9dd9-1c476380fdda",
   "metadata": {},
   "outputs": [
    {
     "name": "stdout",
     "output_type": "stream",
     "text": [
      "Training set : 7200 \n",
      "Testing set : 1800 \n"
     ]
    }
   ],
   "source": [
    "data_split = data_drop.copy()\n",
    "\n",
    "X = data_split.drop(columns=['target'])  \n",
    "y = data_split['target']  \n",
    "\n",
    "X_train, X_test, y_train, y_test = train_test_split(\n",
    "    X, y, \n",
    "    test_size=0.2,  \n",
    "    random_state=42,  \n",
    "    stratify=y \n",
    ")\n",
    "\n",
    "print(f\"Training set : {X_train.shape[0]} \")\n",
    "print(f\"Testing set : {X_test.shape[0]} \")"
   ]
  },
  {
   "cell_type": "markdown",
   "id": "b344f45c-6852-421a-9fa2-d00618e5e032",
   "metadata": {},
   "source": [
    "### Logistic Regression"
   ]
  },
  {
   "cell_type": "code",
   "execution_count": 186,
   "id": "82322ec3-0fff-4bfc-81ba-76a39cca36ee",
   "metadata": {},
   "outputs": [],
   "source": [
    "data_for_logistic = data_split.copy()"
   ]
  },
  {
   "cell_type": "code",
   "execution_count": 218,
   "id": "f3f0d418-1c27-4eec-94c4-c52946b44e4b",
   "metadata": {},
   "outputs": [
    {
     "name": "stdout",
     "output_type": "stream",
     "text": [
      "Cross-Validation Accuracy Scores: [0.85944444 0.85777778 0.84888889 0.855      0.86666667]\n",
      "Mean CV Accuracy: 0.8576\n"
     ]
    }
   ],
   "source": [
    "from sklearn.linear_model import LogisticRegression\n",
    "from sklearn.model_selection import cross_val_score\n",
    "\n",
    "data_for_logistic = data_split.copy()\n",
    "\n",
    "X = data_for_logistic.drop(columns=['target'])\n",
    "y = data_for_logistic['target']\n",
    "\n",
    "logistic_model = LogisticRegression(max_iter=1000, random_state=42)\n",
    "\n",
    "cv_scores = cross_val_score(logistic_model, X, y, cv=5, scoring='accuracy')\n",
    "\n",
    "print(f\"Cross-Validation Accuracy Scores: {cv_scores}\")\n",
    "print(f\"Mean CV Accuracy: {cv_scores.mean():.4f}\")"
   ]
  },
  {
   "cell_type": "code",
   "execution_count": 220,
   "id": "6577245e-b089-470e-914d-e79ae9666131",
   "metadata": {},
   "outputs": [
    {
     "data": {
      "text/html": [
       "<style>#sk-container-id-3 {\n",
       "  /* Definition of color scheme common for light and dark mode */\n",
       "  --sklearn-color-text: black;\n",
       "  --sklearn-color-line: gray;\n",
       "  /* Definition of color scheme for unfitted estimators */\n",
       "  --sklearn-color-unfitted-level-0: #fff5e6;\n",
       "  --sklearn-color-unfitted-level-1: #f6e4d2;\n",
       "  --sklearn-color-unfitted-level-2: #ffe0b3;\n",
       "  --sklearn-color-unfitted-level-3: chocolate;\n",
       "  /* Definition of color scheme for fitted estimators */\n",
       "  --sklearn-color-fitted-level-0: #f0f8ff;\n",
       "  --sklearn-color-fitted-level-1: #d4ebff;\n",
       "  --sklearn-color-fitted-level-2: #b3dbfd;\n",
       "  --sklearn-color-fitted-level-3: cornflowerblue;\n",
       "\n",
       "  /* Specific color for light theme */\n",
       "  --sklearn-color-text-on-default-background: var(--sg-text-color, var(--theme-code-foreground, var(--jp-content-font-color1, black)));\n",
       "  --sklearn-color-background: var(--sg-background-color, var(--theme-background, var(--jp-layout-color0, white)));\n",
       "  --sklearn-color-border-box: var(--sg-text-color, var(--theme-code-foreground, var(--jp-content-font-color1, black)));\n",
       "  --sklearn-color-icon: #696969;\n",
       "\n",
       "  @media (prefers-color-scheme: dark) {\n",
       "    /* Redefinition of color scheme for dark theme */\n",
       "    --sklearn-color-text-on-default-background: var(--sg-text-color, var(--theme-code-foreground, var(--jp-content-font-color1, white)));\n",
       "    --sklearn-color-background: var(--sg-background-color, var(--theme-background, var(--jp-layout-color0, #111)));\n",
       "    --sklearn-color-border-box: var(--sg-text-color, var(--theme-code-foreground, var(--jp-content-font-color1, white)));\n",
       "    --sklearn-color-icon: #878787;\n",
       "  }\n",
       "}\n",
       "\n",
       "#sk-container-id-3 {\n",
       "  color: var(--sklearn-color-text);\n",
       "}\n",
       "\n",
       "#sk-container-id-3 pre {\n",
       "  padding: 0;\n",
       "}\n",
       "\n",
       "#sk-container-id-3 input.sk-hidden--visually {\n",
       "  border: 0;\n",
       "  clip: rect(1px 1px 1px 1px);\n",
       "  clip: rect(1px, 1px, 1px, 1px);\n",
       "  height: 1px;\n",
       "  margin: -1px;\n",
       "  overflow: hidden;\n",
       "  padding: 0;\n",
       "  position: absolute;\n",
       "  width: 1px;\n",
       "}\n",
       "\n",
       "#sk-container-id-3 div.sk-dashed-wrapped {\n",
       "  border: 1px dashed var(--sklearn-color-line);\n",
       "  margin: 0 0.4em 0.5em 0.4em;\n",
       "  box-sizing: border-box;\n",
       "  padding-bottom: 0.4em;\n",
       "  background-color: var(--sklearn-color-background);\n",
       "}\n",
       "\n",
       "#sk-container-id-3 div.sk-container {\n",
       "  /* jupyter's `normalize.less` sets `[hidden] { display: none; }`\n",
       "     but bootstrap.min.css set `[hidden] { display: none !important; }`\n",
       "     so we also need the `!important` here to be able to override the\n",
       "     default hidden behavior on the sphinx rendered scikit-learn.org.\n",
       "     See: https://github.com/scikit-learn/scikit-learn/issues/21755 */\n",
       "  display: inline-block !important;\n",
       "  position: relative;\n",
       "}\n",
       "\n",
       "#sk-container-id-3 div.sk-text-repr-fallback {\n",
       "  display: none;\n",
       "}\n",
       "\n",
       "div.sk-parallel-item,\n",
       "div.sk-serial,\n",
       "div.sk-item {\n",
       "  /* draw centered vertical line to link estimators */\n",
       "  background-image: linear-gradient(var(--sklearn-color-text-on-default-background), var(--sklearn-color-text-on-default-background));\n",
       "  background-size: 2px 100%;\n",
       "  background-repeat: no-repeat;\n",
       "  background-position: center center;\n",
       "}\n",
       "\n",
       "/* Parallel-specific style estimator block */\n",
       "\n",
       "#sk-container-id-3 div.sk-parallel-item::after {\n",
       "  content: \"\";\n",
       "  width: 100%;\n",
       "  border-bottom: 2px solid var(--sklearn-color-text-on-default-background);\n",
       "  flex-grow: 1;\n",
       "}\n",
       "\n",
       "#sk-container-id-3 div.sk-parallel {\n",
       "  display: flex;\n",
       "  align-items: stretch;\n",
       "  justify-content: center;\n",
       "  background-color: var(--sklearn-color-background);\n",
       "  position: relative;\n",
       "}\n",
       "\n",
       "#sk-container-id-3 div.sk-parallel-item {\n",
       "  display: flex;\n",
       "  flex-direction: column;\n",
       "}\n",
       "\n",
       "#sk-container-id-3 div.sk-parallel-item:first-child::after {\n",
       "  align-self: flex-end;\n",
       "  width: 50%;\n",
       "}\n",
       "\n",
       "#sk-container-id-3 div.sk-parallel-item:last-child::after {\n",
       "  align-self: flex-start;\n",
       "  width: 50%;\n",
       "}\n",
       "\n",
       "#sk-container-id-3 div.sk-parallel-item:only-child::after {\n",
       "  width: 0;\n",
       "}\n",
       "\n",
       "/* Serial-specific style estimator block */\n",
       "\n",
       "#sk-container-id-3 div.sk-serial {\n",
       "  display: flex;\n",
       "  flex-direction: column;\n",
       "  align-items: center;\n",
       "  background-color: var(--sklearn-color-background);\n",
       "  padding-right: 1em;\n",
       "  padding-left: 1em;\n",
       "}\n",
       "\n",
       "\n",
       "/* Toggleable style: style used for estimator/Pipeline/ColumnTransformer box that is\n",
       "clickable and can be expanded/collapsed.\n",
       "- Pipeline and ColumnTransformer use this feature and define the default style\n",
       "- Estimators will overwrite some part of the style using the `sk-estimator` class\n",
       "*/\n",
       "\n",
       "/* Pipeline and ColumnTransformer style (default) */\n",
       "\n",
       "#sk-container-id-3 div.sk-toggleable {\n",
       "  /* Default theme specific background. It is overwritten whether we have a\n",
       "  specific estimator or a Pipeline/ColumnTransformer */\n",
       "  background-color: var(--sklearn-color-background);\n",
       "}\n",
       "\n",
       "/* Toggleable label */\n",
       "#sk-container-id-3 label.sk-toggleable__label {\n",
       "  cursor: pointer;\n",
       "  display: block;\n",
       "  width: 100%;\n",
       "  margin-bottom: 0;\n",
       "  padding: 0.5em;\n",
       "  box-sizing: border-box;\n",
       "  text-align: center;\n",
       "}\n",
       "\n",
       "#sk-container-id-3 label.sk-toggleable__label-arrow:before {\n",
       "  /* Arrow on the left of the label */\n",
       "  content: \"▸\";\n",
       "  float: left;\n",
       "  margin-right: 0.25em;\n",
       "  color: var(--sklearn-color-icon);\n",
       "}\n",
       "\n",
       "#sk-container-id-3 label.sk-toggleable__label-arrow:hover:before {\n",
       "  color: var(--sklearn-color-text);\n",
       "}\n",
       "\n",
       "/* Toggleable content - dropdown */\n",
       "\n",
       "#sk-container-id-3 div.sk-toggleable__content {\n",
       "  max-height: 0;\n",
       "  max-width: 0;\n",
       "  overflow: hidden;\n",
       "  text-align: left;\n",
       "  /* unfitted */\n",
       "  background-color: var(--sklearn-color-unfitted-level-0);\n",
       "}\n",
       "\n",
       "#sk-container-id-3 div.sk-toggleable__content.fitted {\n",
       "  /* fitted */\n",
       "  background-color: var(--sklearn-color-fitted-level-0);\n",
       "}\n",
       "\n",
       "#sk-container-id-3 div.sk-toggleable__content pre {\n",
       "  margin: 0.2em;\n",
       "  border-radius: 0.25em;\n",
       "  color: var(--sklearn-color-text);\n",
       "  /* unfitted */\n",
       "  background-color: var(--sklearn-color-unfitted-level-0);\n",
       "}\n",
       "\n",
       "#sk-container-id-3 div.sk-toggleable__content.fitted pre {\n",
       "  /* unfitted */\n",
       "  background-color: var(--sklearn-color-fitted-level-0);\n",
       "}\n",
       "\n",
       "#sk-container-id-3 input.sk-toggleable__control:checked~div.sk-toggleable__content {\n",
       "  /* Expand drop-down */\n",
       "  max-height: 200px;\n",
       "  max-width: 100%;\n",
       "  overflow: auto;\n",
       "}\n",
       "\n",
       "#sk-container-id-3 input.sk-toggleable__control:checked~label.sk-toggleable__label-arrow:before {\n",
       "  content: \"▾\";\n",
       "}\n",
       "\n",
       "/* Pipeline/ColumnTransformer-specific style */\n",
       "\n",
       "#sk-container-id-3 div.sk-label input.sk-toggleable__control:checked~label.sk-toggleable__label {\n",
       "  color: var(--sklearn-color-text);\n",
       "  background-color: var(--sklearn-color-unfitted-level-2);\n",
       "}\n",
       "\n",
       "#sk-container-id-3 div.sk-label.fitted input.sk-toggleable__control:checked~label.sk-toggleable__label {\n",
       "  background-color: var(--sklearn-color-fitted-level-2);\n",
       "}\n",
       "\n",
       "/* Estimator-specific style */\n",
       "\n",
       "/* Colorize estimator box */\n",
       "#sk-container-id-3 div.sk-estimator input.sk-toggleable__control:checked~label.sk-toggleable__label {\n",
       "  /* unfitted */\n",
       "  background-color: var(--sklearn-color-unfitted-level-2);\n",
       "}\n",
       "\n",
       "#sk-container-id-3 div.sk-estimator.fitted input.sk-toggleable__control:checked~label.sk-toggleable__label {\n",
       "  /* fitted */\n",
       "  background-color: var(--sklearn-color-fitted-level-2);\n",
       "}\n",
       "\n",
       "#sk-container-id-3 div.sk-label label.sk-toggleable__label,\n",
       "#sk-container-id-3 div.sk-label label {\n",
       "  /* The background is the default theme color */\n",
       "  color: var(--sklearn-color-text-on-default-background);\n",
       "}\n",
       "\n",
       "/* On hover, darken the color of the background */\n",
       "#sk-container-id-3 div.sk-label:hover label.sk-toggleable__label {\n",
       "  color: var(--sklearn-color-text);\n",
       "  background-color: var(--sklearn-color-unfitted-level-2);\n",
       "}\n",
       "\n",
       "/* Label box, darken color on hover, fitted */\n",
       "#sk-container-id-3 div.sk-label.fitted:hover label.sk-toggleable__label.fitted {\n",
       "  color: var(--sklearn-color-text);\n",
       "  background-color: var(--sklearn-color-fitted-level-2);\n",
       "}\n",
       "\n",
       "/* Estimator label */\n",
       "\n",
       "#sk-container-id-3 div.sk-label label {\n",
       "  font-family: monospace;\n",
       "  font-weight: bold;\n",
       "  display: inline-block;\n",
       "  line-height: 1.2em;\n",
       "}\n",
       "\n",
       "#sk-container-id-3 div.sk-label-container {\n",
       "  text-align: center;\n",
       "}\n",
       "\n",
       "/* Estimator-specific */\n",
       "#sk-container-id-3 div.sk-estimator {\n",
       "  font-family: monospace;\n",
       "  border: 1px dotted var(--sklearn-color-border-box);\n",
       "  border-radius: 0.25em;\n",
       "  box-sizing: border-box;\n",
       "  margin-bottom: 0.5em;\n",
       "  /* unfitted */\n",
       "  background-color: var(--sklearn-color-unfitted-level-0);\n",
       "}\n",
       "\n",
       "#sk-container-id-3 div.sk-estimator.fitted {\n",
       "  /* fitted */\n",
       "  background-color: var(--sklearn-color-fitted-level-0);\n",
       "}\n",
       "\n",
       "/* on hover */\n",
       "#sk-container-id-3 div.sk-estimator:hover {\n",
       "  /* unfitted */\n",
       "  background-color: var(--sklearn-color-unfitted-level-2);\n",
       "}\n",
       "\n",
       "#sk-container-id-3 div.sk-estimator.fitted:hover {\n",
       "  /* fitted */\n",
       "  background-color: var(--sklearn-color-fitted-level-2);\n",
       "}\n",
       "\n",
       "/* Specification for estimator info (e.g. \"i\" and \"?\") */\n",
       "\n",
       "/* Common style for \"i\" and \"?\" */\n",
       "\n",
       ".sk-estimator-doc-link,\n",
       "a:link.sk-estimator-doc-link,\n",
       "a:visited.sk-estimator-doc-link {\n",
       "  float: right;\n",
       "  font-size: smaller;\n",
       "  line-height: 1em;\n",
       "  font-family: monospace;\n",
       "  background-color: var(--sklearn-color-background);\n",
       "  border-radius: 1em;\n",
       "  height: 1em;\n",
       "  width: 1em;\n",
       "  text-decoration: none !important;\n",
       "  margin-left: 1ex;\n",
       "  /* unfitted */\n",
       "  border: var(--sklearn-color-unfitted-level-1) 1pt solid;\n",
       "  color: var(--sklearn-color-unfitted-level-1);\n",
       "}\n",
       "\n",
       ".sk-estimator-doc-link.fitted,\n",
       "a:link.sk-estimator-doc-link.fitted,\n",
       "a:visited.sk-estimator-doc-link.fitted {\n",
       "  /* fitted */\n",
       "  border: var(--sklearn-color-fitted-level-1) 1pt solid;\n",
       "  color: var(--sklearn-color-fitted-level-1);\n",
       "}\n",
       "\n",
       "/* On hover */\n",
       "div.sk-estimator:hover .sk-estimator-doc-link:hover,\n",
       ".sk-estimator-doc-link:hover,\n",
       "div.sk-label-container:hover .sk-estimator-doc-link:hover,\n",
       ".sk-estimator-doc-link:hover {\n",
       "  /* unfitted */\n",
       "  background-color: var(--sklearn-color-unfitted-level-3);\n",
       "  color: var(--sklearn-color-background);\n",
       "  text-decoration: none;\n",
       "}\n",
       "\n",
       "div.sk-estimator.fitted:hover .sk-estimator-doc-link.fitted:hover,\n",
       ".sk-estimator-doc-link.fitted:hover,\n",
       "div.sk-label-container:hover .sk-estimator-doc-link.fitted:hover,\n",
       ".sk-estimator-doc-link.fitted:hover {\n",
       "  /* fitted */\n",
       "  background-color: var(--sklearn-color-fitted-level-3);\n",
       "  color: var(--sklearn-color-background);\n",
       "  text-decoration: none;\n",
       "}\n",
       "\n",
       "/* Span, style for the box shown on hovering the info icon */\n",
       ".sk-estimator-doc-link span {\n",
       "  display: none;\n",
       "  z-index: 9999;\n",
       "  position: relative;\n",
       "  font-weight: normal;\n",
       "  right: .2ex;\n",
       "  padding: .5ex;\n",
       "  margin: .5ex;\n",
       "  width: min-content;\n",
       "  min-width: 20ex;\n",
       "  max-width: 50ex;\n",
       "  color: var(--sklearn-color-text);\n",
       "  box-shadow: 2pt 2pt 4pt #999;\n",
       "  /* unfitted */\n",
       "  background: var(--sklearn-color-unfitted-level-0);\n",
       "  border: .5pt solid var(--sklearn-color-unfitted-level-3);\n",
       "}\n",
       "\n",
       ".sk-estimator-doc-link.fitted span {\n",
       "  /* fitted */\n",
       "  background: var(--sklearn-color-fitted-level-0);\n",
       "  border: var(--sklearn-color-fitted-level-3);\n",
       "}\n",
       "\n",
       ".sk-estimator-doc-link:hover span {\n",
       "  display: block;\n",
       "}\n",
       "\n",
       "/* \"?\"-specific style due to the `<a>` HTML tag */\n",
       "\n",
       "#sk-container-id-3 a.estimator_doc_link {\n",
       "  float: right;\n",
       "  font-size: 1rem;\n",
       "  line-height: 1em;\n",
       "  font-family: monospace;\n",
       "  background-color: var(--sklearn-color-background);\n",
       "  border-radius: 1rem;\n",
       "  height: 1rem;\n",
       "  width: 1rem;\n",
       "  text-decoration: none;\n",
       "  /* unfitted */\n",
       "  color: var(--sklearn-color-unfitted-level-1);\n",
       "  border: var(--sklearn-color-unfitted-level-1) 1pt solid;\n",
       "}\n",
       "\n",
       "#sk-container-id-3 a.estimator_doc_link.fitted {\n",
       "  /* fitted */\n",
       "  border: var(--sklearn-color-fitted-level-1) 1pt solid;\n",
       "  color: var(--sklearn-color-fitted-level-1);\n",
       "}\n",
       "\n",
       "/* On hover */\n",
       "#sk-container-id-3 a.estimator_doc_link:hover {\n",
       "  /* unfitted */\n",
       "  background-color: var(--sklearn-color-unfitted-level-3);\n",
       "  color: var(--sklearn-color-background);\n",
       "  text-decoration: none;\n",
       "}\n",
       "\n",
       "#sk-container-id-3 a.estimator_doc_link.fitted:hover {\n",
       "  /* fitted */\n",
       "  background-color: var(--sklearn-color-fitted-level-3);\n",
       "}\n",
       "</style><div id=\"sk-container-id-3\" class=\"sk-top-container\"><div class=\"sk-text-repr-fallback\"><pre>LogisticRegression(max_iter=1000, random_state=42)</pre><b>In a Jupyter environment, please rerun this cell to show the HTML representation or trust the notebook. <br />On GitHub, the HTML representation is unable to render, please try loading this page with nbviewer.org.</b></div><div class=\"sk-container\" hidden><div class=\"sk-item\"><div class=\"sk-estimator fitted sk-toggleable\"><input class=\"sk-toggleable__control sk-hidden--visually\" id=\"sk-estimator-id-3\" type=\"checkbox\" checked><label for=\"sk-estimator-id-3\" class=\"sk-toggleable__label fitted sk-toggleable__label-arrow fitted\">&nbsp;&nbsp;LogisticRegression<a class=\"sk-estimator-doc-link fitted\" rel=\"noreferrer\" target=\"_blank\" href=\"https://scikit-learn.org/1.4/modules/generated/sklearn.linear_model.LogisticRegression.html\">?<span>Documentation for LogisticRegression</span></a><span class=\"sk-estimator-doc-link fitted\">i<span>Fitted</span></span></label><div class=\"sk-toggleable__content fitted\"><pre>LogisticRegression(max_iter=1000, random_state=42)</pre></div> </div></div></div></div>"
      ],
      "text/plain": [
       "LogisticRegression(max_iter=1000, random_state=42)"
      ]
     },
     "execution_count": 220,
     "metadata": {},
     "output_type": "execute_result"
    }
   ],
   "source": [
    "logistic_model.fit(X_train, y_train)"
   ]
  },
  {
   "cell_type": "code",
   "execution_count": 230,
   "id": "83f4f180-afbf-4cb7-85f8-f1b788afa7c2",
   "metadata": {},
   "outputs": [],
   "source": [
    "y_pred = logistic_model.predict(X_test)\n",
    "y_pred_proba = logistic_model.predict_proba(X_test)[:, 1]"
   ]
  },
  {
   "cell_type": "code",
   "execution_count": 232,
   "id": "e936e259-159e-4d6b-a8e0-4cef760b9c4c",
   "metadata": {},
   "outputs": [],
   "source": [
    "from sklearn.metrics import confusion_matrix, ConfusionMatrixDisplay"
   ]
  },
  {
   "cell_type": "code",
   "execution_count": 234,
   "id": "f695d2af-b5c5-4b91-ac12-376d33aa4bad",
   "metadata": {},
   "outputs": [
    {
     "data": {
      "image/png": "[encoded data removed]",
      "text/plain": [
       "<Figure size 640x480 with 2 Axes>"
      ]
     },
     "metadata": {},
     "output_type": "display_data"
    }
   ],
   "source": [
    "cm = confusion_matrix(y_test, y_pred)\n",
    "\n",
    "disp = ConfusionMatrixDisplay(confusion_matrix=cm, display_labels=logistic_model.classes_)\n",
    "disp.plot(cmap='Blues')\n",
    "plt.title(\"Confusion Matrix\")\n",
    "plt.show()"
   ]
  },
  {
   "cell_type": "code",
   "execution_count": 236,
   "id": "fcae1ac1-701a-40b6-9fa2-ee9134fd94ba",
   "metadata": {},
   "outputs": [
    {
     "data": {
      "image/png": "[encoded data removed]",
      "text/plain": [
       "<Figure size 640x480 with 1 Axes>"
      ]
     },
     "metadata": {},
     "output_type": "display_data"
    },
    {
     "name": "stdout",
     "output_type": "stream",
     "text": [
      "ROC-AUC Score: 0.9338\n"
     ]
    }
   ],
   "source": [
    "from sklearn.metrics import roc_curve, RocCurveDisplay, roc_auc_score\n",
    "\n",
    "fpr, tpr, _ = roc_curve(y_test, y_pred_proba)\n",
    "roc_auc = roc_auc_score(y_test, y_pred_proba)\n",
    "\n",
    "roc_display = RocCurveDisplay(fpr=fpr, tpr=tpr, roc_auc=roc_auc)\n",
    "roc_display.plot()\n",
    "plt.title(\"ROC Curve\")\n",
    "plt.show()\n",
    "\n",
    "print(f\"ROC-AUC Score: {roc_auc:.4f}\")"
   ]
  },
  {
   "cell_type": "code",
   "execution_count": 200,
   "id": "208f1c34-1736-42c7-b02b-55844b248690",
   "metadata": {},
   "outputs": [
    {
     "name": "stdout",
     "output_type": "stream",
     "text": [
      "Cross-Validation Accuracy: [0.83263889 0.87222222 0.85138889 0.87638889 0.85625   ]\n",
      "Mean CV Accuracy: 0.8577777777777778\n"
     ]
    }
   ],
   "source": [
    "from sklearn.model_selection import cross_val_score, cross_val_predict\n",
    "\n",
    "\n",
    "cv_scores = cross_val_score(logistic_model, X_train, y_train, cv=5, scoring='accuracy')\n",
    "\n",
    "print(f\"Cross-Validation Accuracy: {cv_scores}\")\n",
    "\n",
    "print(f\"Mean CV Accuracy: {cv_scores.mean()}\")\n"
   ]
  },
  {
   "cell_type": "code",
   "execution_count": 238,
   "id": "b53d1b30-ede6-44f3-b83b-71fc62d0af85",
   "metadata": {},
   "outputs": [
    {
     "ename": "NameError",
     "evalue": "name 'accuracy_score' is not defined",
     "output_type": "error",
     "traceback": [
      "\u001b[0;31m---------------------------------------------------------------------------\u001b[0m",
      "\u001b[0;31mNameError\u001b[0m                                 Traceback (most recent call last)",
      "Cell \u001b[0;32mIn[238], line 1\u001b[0m\n\u001b[0;32m----> 1\u001b[0m test_accuracy \u001b[38;5;241m=\u001b[39m accuracy_score(y_test, y_test_pred)\n\u001b[1;32m      2\u001b[0m \u001b[38;5;28mprint\u001b[39m(\u001b[38;5;124mf\u001b[39m\u001b[38;5;124m\"\u001b[39m\u001b[38;5;124mTest Set Accuracy: \u001b[39m\u001b[38;5;132;01m{\u001b[39;00mtest_accuracy\u001b[38;5;132;01m}\u001b[39;00m\u001b[38;5;124m\"\u001b[39m)\n",
      "\u001b[0;31mNameError\u001b[0m: name 'accuracy_score' is not defined"
     ]
    }
   ],
   "source": [
    "test_accuracy = accuracy_score(y_test, y_test_pred)\n",
    "print(f\"Test Set Accuracy: {test_accuracy}\")"
   ]
  },
  {
   "cell_type": "code",
   "execution_count": null,
   "id": "c41bafa2-f4e9-40d3-ad9b-1a41bb9e4784",
   "metadata": {},
   "outputs": [],
   "source": []
  },
  {
   "cell_type": "code",
   "execution_count": null,
   "id": "9f6144ae-4dd7-4091-b1ce-4d10c1c8b8d0",
   "metadata": {},
   "outputs": [],
   "source": []
  },
  {
   "cell_type": "code",
   "execution_count": null,
   "id": "9fdccb54-7b1e-43a9-86b8-11eb87ec4b09",
   "metadata": {},
   "outputs": [],
   "source": []
  },
  {
   "cell_type": "code",
   "execution_count": null,
   "id": "ce4ae6dd-8ce4-4282-9985-b55f5c02c6ea",
   "metadata": {},
   "outputs": [],
   "source": []
  },
  {
   "cell_type": "code",
   "execution_count": null,
   "id": "276fde14-15ea-47c4-b6fd-8df2e3541f77",
   "metadata": {},
   "outputs": [],
   "source": []
  },
  {
   "cell_type": "code",
   "execution_count": null,
   "id": "a5072109-f09d-4859-b143-ef17c283abb1",
   "metadata": {},
   "outputs": [],
   "source": []
  },
  {
   "cell_type": "code",
   "execution_count": null,
   "id": "91fb6a39-1d6c-481f-8bc6-3b79591cb229",
   "metadata": {},
   "outputs": [],
   "source": []
  },
  {
   "cell_type": "code",
   "execution_count": null,
   "id": "4964448d-1edb-4b1b-91e7-ed50986135f3",
   "metadata": {},
   "outputs": [],
   "source": []
  },
  {
   "cell_type": "code",
   "execution_count": null,
   "id": "7b2108e3-e414-4156-a307-02a333d364d8",
   "metadata": {},
   "outputs": [],
   "source": []
  },
  {
   "cell_type": "code",
   "execution_count": null,
   "id": "46dc0ae8-db8a-41a5-af86-3e0feab403bf",
   "metadata": {},
   "outputs": [],
   "source": []
  }
 ],
 "metadata": {
  "kernelspec": {
   "display_name": "Python 3 (ipykernel)",
   "language": "python",
   "name": "python3"
  },
  "language_info": {
   "codemirror_mode": {
    "name": "ipython",
    "version": 3
   },
   "file_extension": ".py",
   "mimetype": "text/x-python",
   "name": "python",
   "nbconvert_exporter": "python",
   "pygments_lexer": "ipython3",
   "version": "3.12.4"
  }
 },
 "nbformat": 4,
 "nbformat_minor": 5
}
